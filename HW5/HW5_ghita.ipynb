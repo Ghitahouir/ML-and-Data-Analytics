{
 "cells": [
  {
   "cell_type": "code",
   "execution_count": 59,
   "metadata": {},
   "outputs": [],
   "source": [
    "import numpy as np\n",
    "import pandas as pd\n",
    "import matplotlib.pyplot as plt\n",
    "import sklearn \n",
    "from fancyimpute import BiScaler , SoftImpute\n",
    "import copy\n",
    "import statsmodels.api as sm\n",
    "from sklearn.linear_model import LinearRegression\n",
    "from sklearn.metrics import mean_absolute_error, mean_squared_error, r2_score"
   ]
  },
  {
   "cell_type": "markdown",
   "metadata": {},
   "source": [
    "a) How many songs are in the training dataset? How many users? Based on the training set, provide summary statistics (mean, median, standard deviation, min, and max) for the rating variable."
   ]
  },
  {
   "cell_type": "code",
   "execution_count": 60,
   "metadata": {},
   "outputs": [],
   "source": [
    "#loading the datasets\n",
    "train_data = pd.read_csv(\"MusicRatingsTrain.csv\")\n",
    "val_data_A = pd.read_csv(\"MusicRatingsValidationA.csv\")\n",
    "val_data_B = pd.read_csv(\"MusicRatingsValidationB.csv\")\n",
    "test_data = pd.read_csv(\"MusicRatingsTest.csv\")\n"
   ]
  },
  {
   "cell_type": "code",
   "execution_count": 61,
   "metadata": {},
   "outputs": [
    {
     "data": {
      "text/html": [
       "<div>\n",
       "<style scoped>\n",
       "    .dataframe tbody tr th:only-of-type {\n",
       "        vertical-align: middle;\n",
       "    }\n",
       "\n",
       "    .dataframe tbody tr th {\n",
       "        vertical-align: top;\n",
       "    }\n",
       "\n",
       "    .dataframe thead th {\n",
       "        text-align: right;\n",
       "    }\n",
       "</style>\n",
       "<table border=\"1\" class=\"dataframe\">\n",
       "  <thead>\n",
       "    <tr style=\"text-align: right;\">\n",
       "      <th></th>\n",
       "      <th>userID</th>\n",
       "      <th>songID</th>\n",
       "      <th>rating</th>\n",
       "      <th>songName</th>\n",
       "      <th>year</th>\n",
       "      <th>artist</th>\n",
       "      <th>genre</th>\n",
       "    </tr>\n",
       "  </thead>\n",
       "  <tbody>\n",
       "    <tr>\n",
       "      <th>0</th>\n",
       "      <td>778</td>\n",
       "      <td>242</td>\n",
       "      <td>1.494918</td>\n",
       "      <td>Billy Liar</td>\n",
       "      <td>2003</td>\n",
       "      <td>The Decemberists</td>\n",
       "      <td>Rock</td>\n",
       "    </tr>\n",
       "    <tr>\n",
       "      <th>1</th>\n",
       "      <td>1892</td>\n",
       "      <td>673</td>\n",
       "      <td>2.149164</td>\n",
       "      <td>The Big Gundown</td>\n",
       "      <td>2009</td>\n",
       "      <td>The Prodigy</td>\n",
       "      <td>Electronic</td>\n",
       "    </tr>\n",
       "    <tr>\n",
       "      <th>2</th>\n",
       "      <td>2403</td>\n",
       "      <td>452</td>\n",
       "      <td>1.494918</td>\n",
       "      <td>Hummer</td>\n",
       "      <td>2007</td>\n",
       "      <td>Foals</td>\n",
       "      <td>Rock</td>\n",
       "    </tr>\n",
       "    <tr>\n",
       "      <th>3</th>\n",
       "      <td>1376</td>\n",
       "      <td>437</td>\n",
       "      <td>1.494918</td>\n",
       "      <td>October Song</td>\n",
       "      <td>2003</td>\n",
       "      <td>Amy Winehouse</td>\n",
       "      <td>RnB</td>\n",
       "    </tr>\n",
       "    <tr>\n",
       "      <th>4</th>\n",
       "      <td>1479</td>\n",
       "      <td>192</td>\n",
       "      <td>1.494918</td>\n",
       "      <td>Far Away (Album Version)</td>\n",
       "      <td>2006</td>\n",
       "      <td>Nickelback</td>\n",
       "      <td>Rock</td>\n",
       "    </tr>\n",
       "  </tbody>\n",
       "</table>\n",
       "</div>"
      ],
      "text/plain": [
       "   userID  songID    rating                  songName  year            artist  \\\n",
       "0     778     242  1.494918                Billy Liar  2003  The Decemberists   \n",
       "1    1892     673  2.149164           The Big Gundown  2009       The Prodigy   \n",
       "2    2403     452  1.494918                    Hummer  2007             Foals   \n",
       "3    1376     437  1.494918              October Song  2003     Amy Winehouse   \n",
       "4    1479     192  1.494918  Far Away (Album Version)  2006        Nickelback   \n",
       "\n",
       "        genre  \n",
       "0        Rock  \n",
       "1  Electronic  \n",
       "2        Rock  \n",
       "3         RnB  \n",
       "4        Rock  "
      ]
     },
     "execution_count": 61,
     "metadata": {},
     "output_type": "execute_result"
    }
   ],
   "source": [
    "#visualizing the structure of the data\n",
    "train_data.head()"
   ]
  },
  {
   "cell_type": "code",
   "execution_count": 62,
   "metadata": {},
   "outputs": [
    {
     "name": "stdout",
     "output_type": "stream",
     "text": [
      "There are:  807 songs in the training dataset. \n",
      " There are  2421 users in the training dataset.\n"
     ]
    }
   ],
   "source": [
    "#counting the nb of songs and users in the training dataset\n",
    "nb_songs = len(train_data[\"songID\"].unique())\n",
    "nb_users = len(train_data[\"userID\"].unique())\n",
    "print(\"There are: \", nb_songs, \"songs in the training dataset. \\n There are \", nb_users, \"users in the training dataset.\")"
   ]
  },
  {
   "cell_type": "code",
   "execution_count": 63,
   "metadata": {},
   "outputs": [
    {
     "data": {
      "text/plain": [
       "count    245997.000000\n",
       "mean          1.322631\n",
       "std           0.460886\n",
       "min           1.000000\n",
       "25%           1.000000\n",
       "50%           1.000000\n",
       "75%           1.494918\n",
       "max           4.768656\n",
       "Name: rating, dtype: float64"
      ]
     },
     "execution_count": 63,
     "metadata": {},
     "output_type": "execute_result"
    }
   ],
   "source": [
    "#statistics on the ratings \n",
    "train_data[\"rating\"].describe()"
   ]
  },
  {
   "cell_type": "markdown",
   "metadata": {},
   "source": [
    "b) Let X denote the “true” and “complete” ratings matrix, i.e., $X_{i,j}$ denotes the expected rating \n",
    "of user i for song j across all users and all songs. We are interested in predicting the values of $X_{i,j}$\n",
    "that correspond to cases where we have not yet observed ratings. Let us first consider the following model:\n",
    "$$X_{i,j} = \\alpha _i + β_j + ϵ_{i,j}$$\n",
    "where $α_i$ is a coefficient that depends only on the particular row i (i.e., user), $β_j$ is a coefficient\n",
    "that depends only on the particular column j (i.e., song), and $ϵ_{i,j}$ is a noise term."
   ]
  },
  {
   "cell_type": "markdown",
   "metadata": {},
   "source": [
    "### i)"
   ]
  },
  {
   "cell_type": "code",
   "execution_count": 64,
   "metadata": {},
   "outputs": [
    {
     "name": "stdout",
     "output_type": "stream",
     "text": [
      "There are:  1953747 parameters in the model considered.\n"
     ]
    }
   ],
   "source": [
    "#computing the number of parameters\n",
    "\n",
    "nb_params = int(nb_songs) * int(nb_users)\n",
    "print(\"There are: \", nb_params, \"parameters in the model considered.\")"
   ]
  },
  {
   "cell_type": "code",
   "execution_count": 65,
   "metadata": {},
   "outputs": [
    {
     "name": "stdout",
     "output_type": "stream",
     "text": [
      "There are:  245997 observation to train the model considered.\n"
     ]
    }
   ],
   "source": [
    "#computing the number of observations \n",
    "\n",
    "nb_obs = len(train_data)\n",
    "print(\"There are: \", nb_obs, \"observation to train the model considered.\")"
   ]
  },
  {
   "cell_type": "code",
   "execution_count": 66,
   "metadata": {},
   "outputs": [
    {
     "name": "stdout",
     "output_type": "stream",
     "text": [
      "\n",
      "Number of missing values in the training dataset: 1707750\n"
     ]
    }
   ],
   "source": [
    "#creating the rating matrices\n",
    "train_data_pivot = train_data.pivot_table(index='userID', columns='songID', values='rating')\n",
    "train_data_array = train_data_pivot.to_numpy()\n",
    "\n",
    "train_data_mask = ~np.isnan(train_data_array)\n",
    "n_missing_values = np.sum(train_data_mask==False)\n",
    "print(f\"\\nNumber of missing values in the training dataset: {n_missing_values}\")"
   ]
  },
  {
   "cell_type": "code",
   "execution_count": 67,
   "metadata": {},
   "outputs": [
    {
     "name": "stdout",
     "output_type": "stream",
     "text": [
      "[BiScaler] Initial log residual value = 9.840515\n",
      "[BiScaler] Iter 1: log residual = 2.093693, log improvement ratio=7.746821\n",
      "[BiScaler] Iter 2: log residual = 0.473543, log improvement ratio=1.620150\n",
      "[BiScaler] Iter 3: log residual = -0.418028, log improvement ratio=0.891571\n",
      "[BiScaler] Iter 4: log residual = -1.204926, log improvement ratio=0.786898\n",
      "[BiScaler] Iter 5: log residual = -1.940070, log improvement ratio=0.735144\n",
      "[BiScaler] Iter 6: log residual = -2.639589, log improvement ratio=0.699519\n",
      "[BiScaler] Iter 7: log residual = -3.314790, log improvement ratio=0.675201\n",
      "[BiScaler] Iter 8: log residual = -3.973003, log improvement ratio=0.658213\n",
      "[BiScaler] Iter 9: log residual = -4.618484, log improvement ratio=0.645481\n",
      "[BiScaler] Iter 10: log residual = -5.253418, log improvement ratio=0.634934\n",
      "[BiScaler] Iter 11: log residual = -5.878700, log improvement ratio=0.625282\n",
      "[BiScaler] Iter 12: log residual = -6.494471, log improvement ratio=0.615771\n",
      "[BiScaler] Iter 13: log residual = -7.100463, log improvement ratio=0.605992\n",
      "[BiScaler] Iter 14: log residual = -7.696230, log improvement ratio=0.595767\n",
      "[BiScaler] Iter 15: log residual = -8.281297, log improvement ratio=0.585066\n",
      "[BiScaler] Iter 16: log residual = -8.855266, log improvement ratio=0.573969\n",
      "[BiScaler] Iter 17: log residual = -9.417887, log improvement ratio=0.562622\n",
      "[BiScaler] Iter 18: log residual = -9.969102, log improvement ratio=0.551215\n",
      "[BiScaler] Iter 19: log residual = -10.509057, log improvement ratio=0.539955\n",
      "[BiScaler] Iter 20: log residual = -11.038101, log improvement ratio=0.529044\n",
      "[BiScaler] Iter 21: log residual = -11.556762, log improvement ratio=0.518661\n",
      "[BiScaler] Iter 22: log residual = -12.065708, log improvement ratio=0.508947\n",
      "[BiScaler] Iter 23: log residual = -12.565710, log improvement ratio=0.500002\n",
      "[BiScaler] Iter 24: log residual = -13.057590, log improvement ratio=0.491881\n",
      "[BiScaler] Iter 25: log residual = -13.542190, log improvement ratio=0.484600\n",
      "[BiScaler] Iter 26: log residual = -14.020332, log improvement ratio=0.478142\n",
      "[BiScaler] Iter 27: log residual = -14.492798, log improvement ratio=0.472466\n",
      "[BiScaler] Iter 28: log residual = -14.960312, log improvement ratio=0.467514\n",
      "[BiScaler] Iter 29: log residual = -15.423531, log improvement ratio=0.463219\n",
      "[BiScaler] Iter 30: log residual = -15.883040, log improvement ratio=0.459509\n",
      "[BiScaler] Iter 31: log residual = -16.339356, log improvement ratio=0.456316\n",
      "[BiScaler] Iter 32: log residual = -16.792929, log improvement ratio=0.453573\n",
      "[BiScaler] Iter 33: log residual = -17.244147, log improvement ratio=0.451218\n",
      "[BiScaler] Iter 34: log residual = -17.693345, log improvement ratio=0.449198\n",
      "[BiScaler] Iter 35: log residual = -18.140809, log improvement ratio=0.447464\n",
      "[BiScaler] Iter 36: log residual = -18.586783, log improvement ratio=0.445974\n",
      "[BiScaler] Iter 37: log residual = -19.031474, log improvement ratio=0.444691\n",
      "[BiScaler] Iter 38: log residual = -19.475058, log improvement ratio=0.443585\n",
      "[BiScaler] Iter 39: log residual = -19.917687, log improvement ratio=0.442628\n",
      "[BiScaler] Iter 40: log residual = -20.359486, log improvement ratio=0.441800\n",
      "[BiScaler] Iter 41: log residual = -20.800566, log improvement ratio=0.441080\n",
      "[BiScaler] Iter 42: log residual = -21.241019, log improvement ratio=0.440453\n",
      "[BiScaler] Iter 43: log residual = -21.680924, log improvement ratio=0.439905\n",
      "[BiScaler] Iter 44: log residual = -22.120350, log improvement ratio=0.439426\n",
      "[BiScaler] Iter 45: log residual = -22.559355, log improvement ratio=0.439005\n",
      "[BiScaler] Iter 46: log residual = -22.997988, log improvement ratio=0.438634\n",
      "[BiScaler] Iter 47: log residual = -23.436295, log improvement ratio=0.438307\n",
      "[BiScaler] Iter 48: log residual = -23.874312, log improvement ratio=0.438017\n",
      "[BiScaler] Iter 49: log residual = -24.312073, log improvement ratio=0.437761\n",
      "[BiScaler] Iter 50: log residual = -24.749606, log improvement ratio=0.437533\n",
      "[BiScaler] Iter 51: log residual = -25.186936, log improvement ratio=0.437330\n",
      "[BiScaler] Iter 52: log residual = -25.624085, log improvement ratio=0.437149\n",
      "[BiScaler] Iter 53: log residual = -26.061073, log improvement ratio=0.436988\n",
      "[BiScaler] Iter 54: log residual = -26.497916, log improvement ratio=0.436843\n",
      "[BiScaler] Iter 55: log residual = -26.934630, log improvement ratio=0.436714\n",
      "[BiScaler] Iter 56: log residual = -27.371228, log improvement ratio=0.436598\n",
      "[BiScaler] Iter 57: log residual = -27.807721, log improvement ratio=0.436493\n",
      "[BiScaler] Iter 58: log residual = -28.244121, log improvement ratio=0.436400\n",
      "[BiScaler] Iter 59: log residual = -28.680436, log improvement ratio=0.436315\n",
      "[BiScaler] Iter 60: log residual = -29.116675, log improvement ratio=0.436239\n",
      "[BiScaler] Iter 61: log residual = -29.552846, log improvement ratio=0.436171\n",
      "[BiScaler] Iter 62: log residual = -29.988955, log improvement ratio=0.436109\n",
      "[BiScaler] Iter 63: log residual = -30.425009, log improvement ratio=0.436053\n",
      "[BiScaler] Iter 64: log residual = -30.861012, log improvement ratio=0.436003\n",
      "[BiScaler] Iter 65: log residual = -31.296969, log improvement ratio=0.435958\n",
      "[BiScaler] Iter 66: log residual = -31.732886, log improvement ratio=0.435916\n",
      "[BiScaler] Iter 67: log residual = -32.168765, log improvement ratio=0.435879\n",
      "[BiScaler] Iter 68: log residual = -32.604611, log improvement ratio=0.435846\n",
      "[BiScaler] Iter 69: log residual = -33.040426, log improvement ratio=0.435815\n",
      "[BiScaler] Iter 70: log residual = -33.476213, log improvement ratio=0.435788\n",
      "[BiScaler] Iter 71: log residual = -33.911976, log improvement ratio=0.435763\n",
      "[BiScaler] Iter 72: log residual = -34.347716, log improvement ratio=0.435740\n",
      "[BiScaler] Iter 73: log residual = -34.783435, log improvement ratio=0.435719\n",
      "[BiScaler] Iter 74: log residual = -35.219136, log improvement ratio=0.435701\n",
      "[BiScaler] Iter 75: log residual = -35.654820, log improvement ratio=0.435684\n",
      "[BiScaler] Iter 76: log residual = -36.090489, log improvement ratio=0.435668\n",
      "[BiScaler] Iter 77: log residual = -36.526144, log improvement ratio=0.435656\n",
      "[BiScaler] Iter 78: log residual = -36.961786, log improvement ratio=0.435642\n",
      "[BiScaler] Iter 79: log residual = -37.397418, log improvement ratio=0.435631\n",
      "[BiScaler] Iter 80: log residual = -37.833038, log improvement ratio=0.435620\n",
      "[BiScaler] Iter 81: log residual = -38.268649, log improvement ratio=0.435611\n",
      "[BiScaler] Iter 82: log residual = -38.704252, log improvement ratio=0.435603\n",
      "[BiScaler] Iter 83: log residual = -39.139847, log improvement ratio=0.435595\n",
      "[BiScaler] Iter 84: log residual = -39.575436, log improvement ratio=0.435589\n",
      "[BiScaler] Iter 85: log residual = -40.011018, log improvement ratio=0.435582\n",
      "[BiScaler] Iter 86: log residual = -40.446593, log improvement ratio=0.435575\n",
      "[BiScaler] Iter 87: log residual = -40.882163, log improvement ratio=0.435569\n",
      "[BiScaler] Iter 88: log residual = -41.317724, log improvement ratio=0.435562\n",
      "[BiScaler] Iter 89: log residual = -41.753298, log improvement ratio=0.435574\n",
      "[BiScaler] Iter 90: log residual = -42.188848, log improvement ratio=0.435550\n",
      "[BiScaler] Iter 91: log residual = -42.624407, log improvement ratio=0.435559\n",
      "[BiScaler] Iter 92: log residual = -43.059960, log improvement ratio=0.435553\n",
      "[BiScaler] Iter 93: log residual = -43.495497, log improvement ratio=0.435537\n",
      "[BiScaler] Iter 94: log residual = -43.931060, log improvement ratio=0.435563\n",
      "[BiScaler] Iter 95: log residual = -44.366590, log improvement ratio=0.435530\n",
      "[BiScaler] Iter 96: log residual = -44.802125, log improvement ratio=0.435535\n",
      "[BiScaler] Iter 97: log residual = -45.237676, log improvement ratio=0.435551\n",
      "[BiScaler] Iter 98: log residual = -45.673207, log improvement ratio=0.435531\n",
      "[BiScaler] Iter 99: log residual = -46.108730, log improvement ratio=0.435523\n",
      "[BiScaler] Iter 100: log residual = -46.544298, log improvement ratio=0.435568\n"
     ]
    }
   ],
   "source": [
    "#fitting the Biscaler \n",
    "biscaler = BiScaler()\n",
    "train_data_centered = biscaler.fit_transform(train_data_array)\n"
   ]
  },
  {
   "cell_type": "code",
   "execution_count": 68,
   "metadata": {},
   "outputs": [],
   "source": [
    "#creating matrices\n",
    "train_data_centered_zero = copy.copy(train_data_centered)\n",
    "train_data_centered_zero[np.isnan(train_data_centered_zero)] = 0\n",
    "train_data_filled = biscaler.inverse_transform(train_data_centered_zero)"
   ]
  },
  {
   "cell_type": "markdown",
   "metadata": {},
   "source": [
    "### ii)"
   ]
  },
  {
   "cell_type": "code",
   "execution_count": 69,
   "metadata": {},
   "outputs": [
    {
     "data": {
      "text/html": [
       "<div>\n",
       "<style scoped>\n",
       "    .dataframe tbody tr th:only-of-type {\n",
       "        vertical-align: middle;\n",
       "    }\n",
       "\n",
       "    .dataframe tbody tr th {\n",
       "        vertical-align: top;\n",
       "    }\n",
       "\n",
       "    .dataframe thead th {\n",
       "        text-align: right;\n",
       "    }\n",
       "</style>\n",
       "<table border=\"1\" class=\"dataframe\">\n",
       "  <thead>\n",
       "    <tr style=\"text-align: right;\">\n",
       "      <th></th>\n",
       "      <th>songID</th>\n",
       "      <th>songName</th>\n",
       "      <th>artist</th>\n",
       "      <th>mean_rating</th>\n",
       "    </tr>\n",
       "  </thead>\n",
       "  <tbody>\n",
       "    <tr>\n",
       "      <th>top1</th>\n",
       "      <td>53</td>\n",
       "      <td>Korg Rhythm Afro</td>\n",
       "      <td>Holy Fuck</td>\n",
       "      <td>2.166508</td>\n",
       "    </tr>\n",
       "    <tr>\n",
       "      <th>top2</th>\n",
       "      <td>25</td>\n",
       "      <td>Seven Nation Army</td>\n",
       "      <td>The White Stripes</td>\n",
       "      <td>2.130272</td>\n",
       "    </tr>\n",
       "    <tr>\n",
       "      <th>top3</th>\n",
       "      <td>438</td>\n",
       "      <td>Stay Where You Are</td>\n",
       "      <td>Sleater-kinney</td>\n",
       "      <td>2.040191</td>\n",
       "    </tr>\n",
       "  </tbody>\n",
       "</table>\n",
       "</div>"
      ],
      "text/plain": [
       "      songID            songName             artist  mean_rating\n",
       "top1      53    Korg Rhythm Afro          Holy Fuck     2.166508\n",
       "top2      25   Seven Nation Army  The White Stripes     2.130272\n",
       "top3     438  Stay Where You Are     Sleater-kinney     2.040191"
      ]
     },
     "execution_count": 69,
     "metadata": {},
     "output_type": "execute_result"
    }
   ],
   "source": [
    "#plotting the top 3 songs and 3 artists \n",
    "top_songs = np.argpartition(biscaler.column_means, -3)[-3:][::-1]\n",
    "songs = [train_data[train_data.songID ==song]['songName'].iloc[0] for song in top_songs]\n",
    "artists = [train_data[train_data.songID ==song]['artist'].iloc[0] for song in top_songs]\n",
    "top_songs_artists = pd.DataFrame({\n",
    "    'songID': top_songs,\n",
    "    'songName': [train_data[train_data.songID == song]['songName'].iloc[0] for song in top_songs],\n",
    "    'artist': [train_data[train_data.songID == song]['artist'].iloc[0] for song in top_songs],\n",
    "    'mean_rating': biscaler.column_means[top_songs]\n",
    "}, index = [\"top1\", \"top2\", \"top3\"])\n",
    "\n",
    "top_songs_artists"
   ]
  },
  {
   "cell_type": "markdown",
   "metadata": {},
   "source": [
    "### iii)"
   ]
  },
  {
   "cell_type": "code",
   "execution_count": 70,
   "metadata": {},
   "outputs": [
    {
     "data": {
      "text/html": [
       "<div>\n",
       "<style scoped>\n",
       "    .dataframe tbody tr th:only-of-type {\n",
       "        vertical-align: middle;\n",
       "    }\n",
       "\n",
       "    .dataframe tbody tr th {\n",
       "        vertical-align: top;\n",
       "    }\n",
       "\n",
       "    .dataframe thead th {\n",
       "        text-align: right;\n",
       "    }\n",
       "</style>\n",
       "<table border=\"1\" class=\"dataframe\">\n",
       "  <thead>\n",
       "    <tr style=\"text-align: right;\">\n",
       "      <th></th>\n",
       "      <th>userID</th>\n",
       "      <th>mean_rating</th>\n",
       "    </tr>\n",
       "  </thead>\n",
       "  <tbody>\n",
       "    <tr>\n",
       "      <th>Top 1</th>\n",
       "      <td>53</td>\n",
       "      <td>-0.035934</td>\n",
       "    </tr>\n",
       "    <tr>\n",
       "      <th>Top 2</th>\n",
       "      <td>25</td>\n",
       "      <td>0.122080</td>\n",
       "    </tr>\n",
       "    <tr>\n",
       "      <th>Top 3</th>\n",
       "      <td>438</td>\n",
       "      <td>-0.116710</td>\n",
       "    </tr>\n",
       "  </tbody>\n",
       "</table>\n",
       "</div>"
      ],
      "text/plain": [
       "       userID  mean_rating\n",
       "Top 1      53    -0.035934\n",
       "Top 2      25     0.122080\n",
       "Top 3     438    -0.116710"
      ]
     },
     "execution_count": 70,
     "metadata": {},
     "output_type": "execute_result"
    }
   ],
   "source": [
    "# plotting top 3 users\n",
    "top_users = np.argpartition(biscaler.column_means, -3)[-3:][::-1]\n",
    "table_top_users = pd.DataFrame(columns=['userID', 'mean_rating'], data={'userID': top_users, 'mean_rating': biscaler.row_means[top_users]}, index=['Top 1', 'Top 2', 'Top 3'])\n",
    "table_top_users\n"
   ]
  },
  {
   "cell_type": "markdown",
   "metadata": {},
   "source": [
    "### iv)"
   ]
  },
  {
   "cell_type": "code",
   "execution_count": 71,
   "metadata": {},
   "outputs": [
    {
     "data": {
      "text/plain": [
       "((2421, 807), (2421, 807))"
      ]
     },
     "execution_count": 71,
     "metadata": {},
     "output_type": "execute_result"
    }
   ],
   "source": [
    "#plotting the metrics \n",
    "\n",
    "def calculate_masked_mae(true_values, predicted_values, mask):\n",
    "    masked_diff = true_values[mask] - predicted_values[mask]\n",
    "    return np.mean(np.abs(masked_diff))\n",
    "\n",
    "def calculate_masked_mse(true_values, predicted_values, mask):\n",
    "    masked_diff = true_values[mask] - predicted_values[mask]\n",
    "    return np.mean(masked_diff ** 2)\n",
    "\n",
    "def calculate_OSR2(model_mse, baseline_mse):\n",
    "    return 1 - model_mse / baseline_mse\n",
    "\n",
    "test_pivot = test_data.pivot_table(index=\"userID\", columns = \"songID\", values = \"rating\", dropna=False)\n",
    "test_pivot = pd.merge(pd.Series(train_data_pivot.index),test_pivot.reset_index(),how='outer',on='userID').set_index('userID')\n",
    "test_matrix = test_pivot.to_numpy()\n",
    "\n",
    "test_matrix_mask =  ~np.isnan(test_matrix)\n",
    "np.sum(test_matrix_mask)\n",
    "test_matrix_mask.shape, test_matrix.shape"
   ]
  },
  {
   "cell_type": "code",
   "execution_count": 72,
   "metadata": {},
   "outputs": [
    {
     "data": {
      "text/plain": [
       "(2421, 807)"
      ]
     },
     "execution_count": 72,
     "metadata": {},
     "output_type": "execute_result"
    }
   ],
   "source": [
    "#creating the matrices\n",
    "mat_centered_0 = copy.copy(train_data_centered)\n",
    "mat_centered_0[np.isnan(mat_centered_0)]=0\n",
    "matrx_filled = biscaler.inverse_transform(mat_centered_0)\n",
    "\n",
    "matrx_filled = biscaler.inverse_transform(mat_centered_0)\n",
    "matrx_filled.shape"
   ]
  },
  {
   "cell_type": "code",
   "execution_count": 73,
   "metadata": {},
   "outputs": [
    {
     "name": "stdout",
     "output_type": "stream",
     "text": [
      "Biscale MAE 0.29868140372347 \n",
      "Biscale RMSE 0.39300653381998196 \n",
      "Biscale normalized MAE 0.0746703509308675 \n",
      "Biscale normalized RMSE 0.09825163345499549 \n",
      "Biscale R2 0.28718485726354515\n"
     ]
    }
   ],
   "source": [
    "test_mae = calculate_masked_mae(test_matrix, matrx_filled, test_matrix_mask)\n",
    "print(\"Biscale MAE %s \" % (test_mae)) \n",
    "\n",
    "test_mse = calculate_masked_mse(test_matrix, matrx_filled, test_matrix_mask)\n",
    "print(\"Biscale RMSE %s \" % (np.sqrt(test_mse)))\n",
    "\n",
    "print(\"Biscale normalized MAE %s \" % (test_mae/4)) #Note that we normalize MAE and RMSE by the scale of the ratings, which is 5-(1)=4.\n",
    "print(\"Biscale normalized RMSE %s \" % (np.sqrt(test_mse)/4))\n",
    "\n",
    "baseline_pred = np.mean(train_data.rating)\n",
    "baseline_model = baseline_pred*np.ones((nb_users, nb_songs))\n",
    "baseline_mse = calculate_masked_mse(test_matrix, baseline_model,test_matrix_mask)\n",
    "print(\"Biscale R2 %s\" % calculate_OSR2(test_mse, baseline_mse))"
   ]
  },
  {
   "cell_type": "markdown",
   "metadata": {},
   "source": [
    "### c) i)"
   ]
  },
  {
   "cell_type": "code",
   "execution_count": 74,
   "metadata": {},
   "outputs": [
    {
     "name": "stdout",
     "output_type": "stream",
     "text": [
      "There are k* 3228 + 1953747 parameters in this new model. \n",
      "The exact number depends on k.\n",
      "We still have 245997 observations to train this model\n"
     ]
    }
   ],
   "source": [
    "#computing the number of parameters\n",
    "print(\"There are k*\", str(nb_songs+nb_users), '+', nb_params, \"parameters in this new model. \\nThe exact number depends on k.\")\n",
    "print(\"We still have\", nb_obs, \"observations to train this model\")"
   ]
  },
  {
   "cell_type": "markdown",
   "metadata": {},
   "source": [
    "### ii)"
   ]
  },
  {
   "cell_type": "code",
   "execution_count": 75,
   "metadata": {},
   "outputs": [
    {
     "data": {
      "text/plain": [
       "14470"
      ]
     },
     "execution_count": 75,
     "metadata": {},
     "output_type": "execute_result"
    }
   ],
   "source": [
    "val_data_A_pivot = val_data_A.pivot_table(index=\"userID\", columns=\"songID\", values=\"rating\", dropna=False)\n",
    "val_data_A_pivot = pd.merge(pd.Series(train_data_pivot.index), val_data_A_pivot.reset_index(), how='outer', on='userID').set_index('userID')\n",
    "val_mat_A = val_data_A_pivot.values\n",
    "val_mat_A_mask = ~np.isnan(val_mat_A)\n",
    "np.sum(val_mat_A_mask)"
   ]
  },
  {
   "cell_type": "code",
   "execution_count": 76,
   "metadata": {},
   "outputs": [
    {
     "name": "stdout",
     "output_type": "stream",
     "text": [
      "iter 1 - Validation MAE 0.2886936722736267\n",
      "iter 2 - Validation MAE 0.28647784501862783\n",
      "iter 3 - Validation MAE 0.28475858028767437\n",
      "iter 4 - Validation MAE 0.281602817007934\n",
      "iter 5 - Validation MAE 0.2819492455522867\n",
      "iter 6 - Validation MAE 0.2822331823592897\n",
      "iter 7 - Validation MAE 0.2822882939793443\n",
      "iter 8 - Validation MAE 0.28401391540358845\n",
      "iter 9 - Validation MAE 0.283926355676094\n",
      "iter 10 - Validation MAE 0.28592292185779267\n",
      "iter 11 - Validation MAE 0.28806453176663366\n",
      "iter 12 - Validation MAE 0.28647460705301986\n",
      "iter 13 - Validation MAE 0.2899378106903881\n",
      "iter 14 - Validation MAE 0.29170007448660057\n",
      "iter 15 - Validation MAE 0.29148619153565936\n",
      "iter 16 - Validation MAE 0.2920103456528623\n",
      "iter 17 - Validation MAE 0.2943806037227161\n",
      "iter 18 - Validation MAE 0.2954273917147392\n",
      "iter 19 - Validation MAE 0.29956652444751014\n",
      "iter 20 - Validation MAE 0.30130243615166097\n"
     ]
    }
   ],
   "source": [
    "cv_mae = []\n",
    "for i in range(20):\n",
    "    param_cv = i + 1\n",
    "    soft_imputer_cv = SoftImpute(max_rank=param_cv, verbose=False)\n",
    "    filled_centered_mat_cv = soft_imputer_cv.fit_transform(train_data_centered)\n",
    "    filled_mat_cv = biscaler.inverse_transform(filled_centered_mat_cv)\n",
    "    filled_mat_cv = np.clip(filled_mat_cv, 1, 5)\n",
    "    val_mae_cv = calculate_masked_mae(val_mat_A, filled_mat_cv, val_mat_A_mask)\n",
    "    cv_mae.append(val_mae_cv)\n",
    "    print('iter %s - Validation MAE %s' % (param_cv, val_mae_cv))\n"
   ]
  },
  {
   "cell_type": "code",
   "execution_count": 77,
   "metadata": {},
   "outputs": [
    {
     "data": {
      "image/png": "[encoded data removed]",
      "text/plain": [
       "<Figure size 432x288 with 1 Axes>"
      ]
     },
     "metadata": {
      "needs_background": "light"
     },
     "output_type": "display_data"
    }
   ],
   "source": [
    "plt.plot(range(1,21), cv_mae)\n",
    "plt.xlabel('# users')\n",
    "plt.ylabel('Validation MAE')\n",
    "plt.show()"
   ]
  },
  {
   "cell_type": "markdown",
   "metadata": {},
   "source": [
    "The value of k (number of users) that minimizes the MAE on the validation set A is 6.\n",
    "### iii)"
   ]
  },
  {
   "cell_type": "code",
   "execution_count": 78,
   "metadata": {},
   "outputs": [
    {
     "name": "stdout",
     "output_type": "stream",
     "text": [
      "[SoftImpute] Max Singular Value of X_init = 62.587108\n",
      "[SoftImpute] Iter 1: observed MAE=0.770978 rank=6\n",
      "[SoftImpute] Iter 2: observed MAE=0.757046 rank=6\n",
      "[SoftImpute] Iter 3: observed MAE=0.748145 rank=6\n",
      "[SoftImpute] Iter 4: observed MAE=0.742283 rank=6\n",
      "[SoftImpute] Iter 5: observed MAE=0.737416 rank=6\n",
      "[SoftImpute] Iter 6: observed MAE=0.733654 rank=6\n",
      "[SoftImpute] Iter 7: observed MAE=0.730600 rank=6\n",
      "[SoftImpute] Iter 8: observed MAE=0.728018 rank=6\n",
      "[SoftImpute] Iter 9: observed MAE=0.725793 rank=6\n",
      "[SoftImpute] Iter 10: observed MAE=0.723939 rank=6\n",
      "[SoftImpute] Iter 11: observed MAE=0.722218 rank=6\n",
      "[SoftImpute] Iter 12: observed MAE=0.720764 rank=6\n",
      "[SoftImpute] Iter 13: observed MAE=0.719451 rank=6\n",
      "[SoftImpute] Iter 14: observed MAE=0.718342 rank=6\n",
      "[SoftImpute] Iter 15: observed MAE=0.717273 rank=6\n",
      "[SoftImpute] Iter 16: observed MAE=0.716386 rank=6\n",
      "[SoftImpute] Iter 17: observed MAE=0.715568 rank=6\n",
      "[SoftImpute] Iter 18: observed MAE=0.714818 rank=6\n",
      "[SoftImpute] Iter 19: observed MAE=0.714176 rank=6\n",
      "[SoftImpute] Iter 20: observed MAE=0.713610 rank=6\n",
      "[SoftImpute] Iter 21: observed MAE=0.713075 rank=6\n",
      "[SoftImpute] Iter 22: observed MAE=0.712613 rank=6\n",
      "[SoftImpute] Iter 23: observed MAE=0.712180 rank=6\n",
      "[SoftImpute] Iter 24: observed MAE=0.711799 rank=6\n",
      "[SoftImpute] Iter 25: observed MAE=0.711436 rank=6\n",
      "[SoftImpute] Iter 26: observed MAE=0.711108 rank=6\n",
      "[SoftImpute] Iter 27: observed MAE=0.710831 rank=6\n",
      "[SoftImpute] Iter 28: observed MAE=0.710567 rank=6\n",
      "[SoftImpute] Iter 29: observed MAE=0.710309 rank=6\n",
      "[SoftImpute] Iter 30: observed MAE=0.710074 rank=6\n",
      "[SoftImpute] Iter 31: observed MAE=0.709854 rank=6\n",
      "[SoftImpute] Iter 32: observed MAE=0.709642 rank=6\n",
      "[SoftImpute] Iter 33: observed MAE=0.709473 rank=6\n",
      "[SoftImpute] Iter 34: observed MAE=0.709308 rank=6\n",
      "[SoftImpute] Iter 35: observed MAE=0.709157 rank=6\n",
      "[SoftImpute] Iter 36: observed MAE=0.709041 rank=6\n",
      "[SoftImpute] Iter 37: observed MAE=0.708890 rank=6\n",
      "[SoftImpute] Iter 38: observed MAE=0.708750 rank=6\n",
      "[SoftImpute] Iter 39: observed MAE=0.708615 rank=6\n",
      "[SoftImpute] Iter 40: observed MAE=0.708505 rank=6\n",
      "[SoftImpute] Iter 41: observed MAE=0.708387 rank=6\n",
      "[SoftImpute] Iter 42: observed MAE=0.708269 rank=6\n",
      "[SoftImpute] Iter 43: observed MAE=0.708153 rank=6\n",
      "[SoftImpute] Iter 44: observed MAE=0.708058 rank=6\n",
      "[SoftImpute] Iter 45: observed MAE=0.707955 rank=6\n",
      "[SoftImpute] Iter 46: observed MAE=0.707858 rank=6\n",
      "[SoftImpute] Iter 47: observed MAE=0.707770 rank=6\n",
      "[SoftImpute] Iter 48: observed MAE=0.707687 rank=6\n",
      "[SoftImpute] Iter 49: observed MAE=0.707607 rank=6\n",
      "[SoftImpute] Iter 50: observed MAE=0.707529 rank=6\n",
      "[SoftImpute] Iter 51: observed MAE=0.707446 rank=6\n",
      "[SoftImpute] Iter 52: observed MAE=0.707369 rank=6\n",
      "[SoftImpute] Iter 53: observed MAE=0.707295 rank=6\n",
      "[SoftImpute] Iter 54: observed MAE=0.707242 rank=6\n",
      "[SoftImpute] Iter 55: observed MAE=0.707187 rank=6\n",
      "[SoftImpute] Iter 56: observed MAE=0.707119 rank=6\n",
      "[SoftImpute] Iter 57: observed MAE=0.707059 rank=6\n",
      "[SoftImpute] Iter 58: observed MAE=0.706990 rank=6\n",
      "[SoftImpute] Iter 59: observed MAE=0.706929 rank=6\n",
      "[SoftImpute] Iter 60: observed MAE=0.706875 rank=6\n",
      "[SoftImpute] Iter 61: observed MAE=0.706818 rank=6\n",
      "[SoftImpute] Iter 62: observed MAE=0.706761 rank=6\n",
      "[SoftImpute] Iter 63: observed MAE=0.706718 rank=6\n",
      "[SoftImpute] Iter 64: observed MAE=0.706672 rank=6\n",
      "[SoftImpute] Iter 65: observed MAE=0.706635 rank=6\n",
      "[SoftImpute] Iter 66: observed MAE=0.706594 rank=6\n",
      "[SoftImpute] Iter 67: observed MAE=0.706551 rank=6\n",
      "[SoftImpute] Iter 68: observed MAE=0.706497 rank=6\n",
      "[SoftImpute] Iter 69: observed MAE=0.706472 rank=6\n",
      "[SoftImpute] Iter 70: observed MAE=0.706434 rank=6\n",
      "[SoftImpute] Iter 71: observed MAE=0.706398 rank=6\n",
      "[SoftImpute] Iter 72: observed MAE=0.706348 rank=6\n",
      "[SoftImpute] Iter 73: observed MAE=0.706308 rank=6\n",
      "[SoftImpute] Iter 74: observed MAE=0.706288 rank=6\n",
      "[SoftImpute] Iter 75: observed MAE=0.706256 rank=6\n",
      "[SoftImpute] Iter 76: observed MAE=0.706219 rank=6\n",
      "[SoftImpute] Iter 77: observed MAE=0.706186 rank=6\n",
      "[SoftImpute] Iter 78: observed MAE=0.706133 rank=6\n",
      "[SoftImpute] Iter 79: observed MAE=0.706081 rank=6\n",
      "[SoftImpute] Iter 80: observed MAE=0.706048 rank=6\n",
      "[SoftImpute] Iter 81: observed MAE=0.706004 rank=6\n",
      "[SoftImpute] Iter 82: observed MAE=0.705984 rank=6\n",
      "[SoftImpute] Iter 83: observed MAE=0.705949 rank=6\n",
      "[SoftImpute] Iter 84: observed MAE=0.705923 rank=6\n",
      "[SoftImpute] Iter 85: observed MAE=0.705908 rank=6\n",
      "[SoftImpute] Iter 86: observed MAE=0.705885 rank=6\n",
      "[SoftImpute] Iter 87: observed MAE=0.705851 rank=6\n",
      "[SoftImpute] Iter 88: observed MAE=0.705822 rank=6\n",
      "[SoftImpute] Iter 89: observed MAE=0.705808 rank=6\n",
      "[SoftImpute] Iter 90: observed MAE=0.705782 rank=6\n",
      "[SoftImpute] Iter 91: observed MAE=0.705769 rank=6\n",
      "[SoftImpute] Iter 92: observed MAE=0.705733 rank=6\n",
      "[SoftImpute] Iter 93: observed MAE=0.705693 rank=6\n",
      "[SoftImpute] Iter 94: observed MAE=0.705666 rank=6\n",
      "[SoftImpute] Iter 95: observed MAE=0.705640 rank=6\n",
      "[SoftImpute] Iter 96: observed MAE=0.705618 rank=6\n",
      "[SoftImpute] Iter 97: observed MAE=0.705587 rank=6\n",
      "[SoftImpute] Iter 98: observed MAE=0.705571 rank=6\n",
      "[SoftImpute] Iter 99: observed MAE=0.705558 rank=6\n",
      "[SoftImpute] Iter 100: observed MAE=0.705534 rank=6\n",
      "[SoftImpute] Stopped after iteration 100 for lambda=1.251742\n"
     ]
    }
   ],
   "source": [
    "#building the final model witht the right value of k\n",
    "soft_imputer = SoftImpute(max_rank=6, verbose=True)\n",
    "soft_imputer_filled = soft_imputer.fit_transform(train_data_centered)\n",
    "test_soft_imputer_filled = biscaler.inverse_transform(soft_imputer_filled)\n",
    "test_soft_imputer_filled = np.clip(test_soft_imputer_filled, 1, 5)"
   ]
  },
  {
   "cell_type": "code",
   "execution_count": 79,
   "metadata": {},
   "outputs": [
    {
     "name": "stdout",
     "output_type": "stream",
     "text": [
      "The SoftImpute MAE is:  0.28281460544961295\n",
      "The SoftImpute RMSE is:  0.38656501371828306\n",
      "The SoftImpute normalized MAE is:  0.07070365136240324\n",
      "The SoftImpute normalized RMSE is:  0.09664125342957076\n",
      "The SoftImpute R2 is:  0.31035996288799916\n"
     ]
    }
   ],
   "source": [
    "mae_softimpute = calculate_masked_mae(test_matrix, test_soft_imputer_filled, test_matrix_mask)\n",
    "print(\"The SoftImpute MAE is: \", mae_softimpute)\n",
    "\n",
    "mse_softimpute = calculate_masked_mse(test_matrix, test_soft_imputer_filled, test_matrix_mask)\n",
    "print(\"The SoftImpute RMSE is: \", np.sqrt(mse_softimpute))\n",
    "\n",
    "normalized_mae_softimpute = mae_softimpute/4\n",
    "print(\"The SoftImpute normalized MAE is: \", normalized_mae_softimpute)\n",
    "\n",
    "normalized_rmse_softimpute = np.sqrt(mse_softimpute)/4\n",
    "print(\"The SoftImpute normalized RMSE is: \", normalized_rmse_softimpute)\n",
    "\n",
    "baseline_prediction = np.mean(train_data.rating)\n",
    "baseline_model = baseline_prediction*np.ones((nb_users, nb_songs))\n",
    "baseline_mse = calculate_masked_mse(test_matrix, baseline_model, test_matrix_mask)\n",
    "print(\"The SoftImpute R2 is: \", calculate_OSR2(model_mse=mse_softimpute, baseline_mse=baseline_mse))\n"
   ]
  },
  {
   "cell_type": "markdown",
   "metadata": {},
   "source": [
    "### d) i)"
   ]
  },
  {
   "cell_type": "code",
   "execution_count": 80,
   "metadata": {},
   "outputs": [],
   "source": [
    "#creating the independent features\n",
    "unique_genre = list(train_data['genre'].unique())\n",
    "unique_year = list(train_data['year'].unique())\n",
    "unique_year.sort()"
   ]
  },
  {
   "cell_type": "code",
   "execution_count": 81,
   "metadata": {},
   "outputs": [],
   "source": [
    "#creating the train and test datasets to perform the task on \n",
    "\n",
    "train_X = pd.DataFrame()\n",
    "test_X = pd.DataFrame()\n",
    "\n",
    "for g in range(len(unique_genre)-1):\n",
    "    train_X['genre'+str(g+1)] = train_data['genre'].apply(lambda x : 1 if x == unique_genre[g] else 0)\n",
    "    test_X['genre'+str(g+1)] = test_data['genre'].apply(lambda x : 1 if x == unique_genre[g] else 0)\n",
    "\n",
    "for y in range(len(unique_year)-1):\n",
    "    train_X['year'+str(y+1)] = train_data['year'].apply(lambda x : 1 if x == unique_year[y] else 0)\n",
    "    test_X['year'+str(y+1)] = test_data['year'].apply(lambda x : 1 if x == unique_year[y] else 0)"
   ]
  },
  {
   "cell_type": "code",
   "execution_count": 82,
   "metadata": {},
   "outputs": [
    {
     "data": {
      "text/html": [
       "<div>\n",
       "<style scoped>\n",
       "    .dataframe tbody tr th:only-of-type {\n",
       "        vertical-align: middle;\n",
       "    }\n",
       "\n",
       "    .dataframe tbody tr th {\n",
       "        vertical-align: top;\n",
       "    }\n",
       "\n",
       "    .dataframe thead th {\n",
       "        text-align: right;\n",
       "    }\n",
       "</style>\n",
       "<table border=\"1\" class=\"dataframe\">\n",
       "  <thead>\n",
       "    <tr style=\"text-align: right;\">\n",
       "      <th></th>\n",
       "      <th>genre1</th>\n",
       "      <th>genre2</th>\n",
       "      <th>genre3</th>\n",
       "      <th>genre4</th>\n",
       "      <th>genre5</th>\n",
       "      <th>genre6</th>\n",
       "      <th>year1</th>\n",
       "      <th>year2</th>\n",
       "      <th>year3</th>\n",
       "      <th>year4</th>\n",
       "      <th>...</th>\n",
       "      <th>year18</th>\n",
       "      <th>year19</th>\n",
       "      <th>year20</th>\n",
       "      <th>year21</th>\n",
       "      <th>year22</th>\n",
       "      <th>year23</th>\n",
       "      <th>year24</th>\n",
       "      <th>year25</th>\n",
       "      <th>year26</th>\n",
       "      <th>year27</th>\n",
       "    </tr>\n",
       "  </thead>\n",
       "  <tbody>\n",
       "    <tr>\n",
       "      <th>0</th>\n",
       "      <td>1</td>\n",
       "      <td>0</td>\n",
       "      <td>0</td>\n",
       "      <td>0</td>\n",
       "      <td>0</td>\n",
       "      <td>0</td>\n",
       "      <td>0</td>\n",
       "      <td>0</td>\n",
       "      <td>0</td>\n",
       "      <td>0</td>\n",
       "      <td>...</td>\n",
       "      <td>0</td>\n",
       "      <td>0</td>\n",
       "      <td>0</td>\n",
       "      <td>1</td>\n",
       "      <td>0</td>\n",
       "      <td>0</td>\n",
       "      <td>0</td>\n",
       "      <td>0</td>\n",
       "      <td>0</td>\n",
       "      <td>0</td>\n",
       "    </tr>\n",
       "    <tr>\n",
       "      <th>1</th>\n",
       "      <td>0</td>\n",
       "      <td>1</td>\n",
       "      <td>0</td>\n",
       "      <td>0</td>\n",
       "      <td>0</td>\n",
       "      <td>0</td>\n",
       "      <td>0</td>\n",
       "      <td>0</td>\n",
       "      <td>0</td>\n",
       "      <td>0</td>\n",
       "      <td>...</td>\n",
       "      <td>0</td>\n",
       "      <td>0</td>\n",
       "      <td>0</td>\n",
       "      <td>0</td>\n",
       "      <td>0</td>\n",
       "      <td>0</td>\n",
       "      <td>0</td>\n",
       "      <td>0</td>\n",
       "      <td>0</td>\n",
       "      <td>1</td>\n",
       "    </tr>\n",
       "    <tr>\n",
       "      <th>2</th>\n",
       "      <td>1</td>\n",
       "      <td>0</td>\n",
       "      <td>0</td>\n",
       "      <td>0</td>\n",
       "      <td>0</td>\n",
       "      <td>0</td>\n",
       "      <td>0</td>\n",
       "      <td>0</td>\n",
       "      <td>0</td>\n",
       "      <td>0</td>\n",
       "      <td>...</td>\n",
       "      <td>0</td>\n",
       "      <td>0</td>\n",
       "      <td>0</td>\n",
       "      <td>0</td>\n",
       "      <td>0</td>\n",
       "      <td>0</td>\n",
       "      <td>0</td>\n",
       "      <td>1</td>\n",
       "      <td>0</td>\n",
       "      <td>0</td>\n",
       "    </tr>\n",
       "    <tr>\n",
       "      <th>3</th>\n",
       "      <td>0</td>\n",
       "      <td>0</td>\n",
       "      <td>1</td>\n",
       "      <td>0</td>\n",
       "      <td>0</td>\n",
       "      <td>0</td>\n",
       "      <td>0</td>\n",
       "      <td>0</td>\n",
       "      <td>0</td>\n",
       "      <td>0</td>\n",
       "      <td>...</td>\n",
       "      <td>0</td>\n",
       "      <td>0</td>\n",
       "      <td>0</td>\n",
       "      <td>1</td>\n",
       "      <td>0</td>\n",
       "      <td>0</td>\n",
       "      <td>0</td>\n",
       "      <td>0</td>\n",
       "      <td>0</td>\n",
       "      <td>0</td>\n",
       "    </tr>\n",
       "    <tr>\n",
       "      <th>4</th>\n",
       "      <td>1</td>\n",
       "      <td>0</td>\n",
       "      <td>0</td>\n",
       "      <td>0</td>\n",
       "      <td>0</td>\n",
       "      <td>0</td>\n",
       "      <td>0</td>\n",
       "      <td>0</td>\n",
       "      <td>0</td>\n",
       "      <td>0</td>\n",
       "      <td>...</td>\n",
       "      <td>0</td>\n",
       "      <td>0</td>\n",
       "      <td>0</td>\n",
       "      <td>0</td>\n",
       "      <td>0</td>\n",
       "      <td>0</td>\n",
       "      <td>1</td>\n",
       "      <td>0</td>\n",
       "      <td>0</td>\n",
       "      <td>0</td>\n",
       "    </tr>\n",
       "    <tr>\n",
       "      <th>...</th>\n",
       "      <td>...</td>\n",
       "      <td>...</td>\n",
       "      <td>...</td>\n",
       "      <td>...</td>\n",
       "      <td>...</td>\n",
       "      <td>...</td>\n",
       "      <td>...</td>\n",
       "      <td>...</td>\n",
       "      <td>...</td>\n",
       "      <td>...</td>\n",
       "      <td>...</td>\n",
       "      <td>...</td>\n",
       "      <td>...</td>\n",
       "      <td>...</td>\n",
       "      <td>...</td>\n",
       "      <td>...</td>\n",
       "      <td>...</td>\n",
       "      <td>...</td>\n",
       "      <td>...</td>\n",
       "      <td>...</td>\n",
       "      <td>...</td>\n",
       "    </tr>\n",
       "    <tr>\n",
       "      <th>245992</th>\n",
       "      <td>1</td>\n",
       "      <td>0</td>\n",
       "      <td>0</td>\n",
       "      <td>0</td>\n",
       "      <td>0</td>\n",
       "      <td>0</td>\n",
       "      <td>0</td>\n",
       "      <td>0</td>\n",
       "      <td>0</td>\n",
       "      <td>0</td>\n",
       "      <td>...</td>\n",
       "      <td>0</td>\n",
       "      <td>1</td>\n",
       "      <td>0</td>\n",
       "      <td>0</td>\n",
       "      <td>0</td>\n",
       "      <td>0</td>\n",
       "      <td>0</td>\n",
       "      <td>0</td>\n",
       "      <td>0</td>\n",
       "      <td>0</td>\n",
       "    </tr>\n",
       "    <tr>\n",
       "      <th>245993</th>\n",
       "      <td>0</td>\n",
       "      <td>1</td>\n",
       "      <td>0</td>\n",
       "      <td>0</td>\n",
       "      <td>0</td>\n",
       "      <td>0</td>\n",
       "      <td>0</td>\n",
       "      <td>0</td>\n",
       "      <td>0</td>\n",
       "      <td>0</td>\n",
       "      <td>...</td>\n",
       "      <td>0</td>\n",
       "      <td>0</td>\n",
       "      <td>0</td>\n",
       "      <td>0</td>\n",
       "      <td>0</td>\n",
       "      <td>0</td>\n",
       "      <td>0</td>\n",
       "      <td>1</td>\n",
       "      <td>0</td>\n",
       "      <td>0</td>\n",
       "    </tr>\n",
       "    <tr>\n",
       "      <th>245994</th>\n",
       "      <td>1</td>\n",
       "      <td>0</td>\n",
       "      <td>0</td>\n",
       "      <td>0</td>\n",
       "      <td>0</td>\n",
       "      <td>0</td>\n",
       "      <td>0</td>\n",
       "      <td>0</td>\n",
       "      <td>0</td>\n",
       "      <td>0</td>\n",
       "      <td>...</td>\n",
       "      <td>0</td>\n",
       "      <td>0</td>\n",
       "      <td>0</td>\n",
       "      <td>0</td>\n",
       "      <td>0</td>\n",
       "      <td>0</td>\n",
       "      <td>0</td>\n",
       "      <td>1</td>\n",
       "      <td>0</td>\n",
       "      <td>0</td>\n",
       "    </tr>\n",
       "    <tr>\n",
       "      <th>245995</th>\n",
       "      <td>1</td>\n",
       "      <td>0</td>\n",
       "      <td>0</td>\n",
       "      <td>0</td>\n",
       "      <td>0</td>\n",
       "      <td>0</td>\n",
       "      <td>0</td>\n",
       "      <td>0</td>\n",
       "      <td>0</td>\n",
       "      <td>0</td>\n",
       "      <td>...</td>\n",
       "      <td>0</td>\n",
       "      <td>0</td>\n",
       "      <td>0</td>\n",
       "      <td>0</td>\n",
       "      <td>0</td>\n",
       "      <td>0</td>\n",
       "      <td>0</td>\n",
       "      <td>0</td>\n",
       "      <td>0</td>\n",
       "      <td>0</td>\n",
       "    </tr>\n",
       "    <tr>\n",
       "      <th>245996</th>\n",
       "      <td>0</td>\n",
       "      <td>0</td>\n",
       "      <td>0</td>\n",
       "      <td>1</td>\n",
       "      <td>0</td>\n",
       "      <td>0</td>\n",
       "      <td>0</td>\n",
       "      <td>0</td>\n",
       "      <td>0</td>\n",
       "      <td>0</td>\n",
       "      <td>...</td>\n",
       "      <td>0</td>\n",
       "      <td>0</td>\n",
       "      <td>0</td>\n",
       "      <td>0</td>\n",
       "      <td>0</td>\n",
       "      <td>0</td>\n",
       "      <td>0</td>\n",
       "      <td>0</td>\n",
       "      <td>1</td>\n",
       "      <td>0</td>\n",
       "    </tr>\n",
       "  </tbody>\n",
       "</table>\n",
       "<p>245997 rows × 33 columns</p>\n",
       "</div>"
      ],
      "text/plain": [
       "        genre1  genre2  genre3  genre4  genre5  genre6  year1  year2  year3  \\\n",
       "0            1       0       0       0       0       0      0      0      0   \n",
       "1            0       1       0       0       0       0      0      0      0   \n",
       "2            1       0       0       0       0       0      0      0      0   \n",
       "3            0       0       1       0       0       0      0      0      0   \n",
       "4            1       0       0       0       0       0      0      0      0   \n",
       "...        ...     ...     ...     ...     ...     ...    ...    ...    ...   \n",
       "245992       1       0       0       0       0       0      0      0      0   \n",
       "245993       0       1       0       0       0       0      0      0      0   \n",
       "245994       1       0       0       0       0       0      0      0      0   \n",
       "245995       1       0       0       0       0       0      0      0      0   \n",
       "245996       0       0       0       1       0       0      0      0      0   \n",
       "\n",
       "        year4  ...  year18  year19  year20  year21  year22  year23  year24  \\\n",
       "0           0  ...       0       0       0       1       0       0       0   \n",
       "1           0  ...       0       0       0       0       0       0       0   \n",
       "2           0  ...       0       0       0       0       0       0       0   \n",
       "3           0  ...       0       0       0       1       0       0       0   \n",
       "4           0  ...       0       0       0       0       0       0       1   \n",
       "...       ...  ...     ...     ...     ...     ...     ...     ...     ...   \n",
       "245992      0  ...       0       1       0       0       0       0       0   \n",
       "245993      0  ...       0       0       0       0       0       0       0   \n",
       "245994      0  ...       0       0       0       0       0       0       0   \n",
       "245995      0  ...       0       0       0       0       0       0       0   \n",
       "245996      0  ...       0       0       0       0       0       0       0   \n",
       "\n",
       "        year25  year26  year27  \n",
       "0            0       0       0  \n",
       "1            0       0       1  \n",
       "2            1       0       0  \n",
       "3            0       0       0  \n",
       "4            0       0       0  \n",
       "...        ...     ...     ...  \n",
       "245992       0       0       0  \n",
       "245993       1       0       0  \n",
       "245994       1       0       0  \n",
       "245995       0       0       0  \n",
       "245996       0       1       0  \n",
       "\n",
       "[245997 rows x 33 columns]"
      ]
     },
     "execution_count": 82,
     "metadata": {},
     "output_type": "execute_result"
    }
   ],
   "source": [
    "train_X"
   ]
  },
  {
   "cell_type": "code",
   "execution_count": 83,
   "metadata": {},
   "outputs": [],
   "source": [
    "# defining the target\n",
    "\n",
    "train_y = train_data['rating']\n",
    "test_y = test_data['rating']"
   ]
  },
  {
   "cell_type": "code",
   "execution_count": 84,
   "metadata": {},
   "outputs": [],
   "source": [
    "#importing the models \n",
    "\n",
    "from sklearn.tree import DecisionTreeRegressor\n",
    "from sklearn.model_selection import GridSearchCV"
   ]
  },
  {
   "cell_type": "code",
   "execution_count": 86,
   "metadata": {},
   "outputs": [],
   "source": [
    "# performing Grid Search to find the optimal ccp alpha\n",
    "\n",
    "param_grid = {'ccp_alpha': np.linspace(0, 0.01, 75)}\n",
    "tree_reg = DecisionTreeRegressor(random_state=2)\n",
    "grid_search = GridSearchCV(tree_reg, param_grid=param_grid, cv=10).fit(train_X, train_y)\n"
   ]
  },
  {
   "cell_type": "code",
   "execution_count": 90,
   "metadata": {},
   "outputs": [
    {
     "data": {
      "text/plain": [
       "((), (75,))"
      ]
     },
     "execution_count": 90,
     "metadata": {},
     "output_type": "execute_result"
    }
   ],
   "source": [
    "best_alpha = grid_search.best_params_['ccp_alpha']\n",
    "mean_scores = grid_search.cv_results_['mean_test_score']\n",
    "best_alpha.shape, mean_scores.shape"
   ]
  },
  {
   "cell_type": "code",
   "execution_count": 91,
   "metadata": {},
   "outputs": [],
   "source": [
    "# Fit and predict with model 1\n",
    "model1 = DecisionTreeRegressor(random_state=42)\n",
    "model1.fit(train_X, train_y)\n",
    "y_pred_1 = model1.predict(test_X)\n",
    "test_mae1 = mean_absolute_error(test_y, y_pred_1)\n",
    "test_rmse1 = mean_squared_error(test_y, y_pred_1, squared=False)\n",
    "test_r2_1 = r2_score(test_y, y_pred_1)"
   ]
  },
  {
   "cell_type": "code",
   "execution_count": 92,
   "metadata": {},
   "outputs": [],
   "source": [
    "# Fit and predict with model 2\n",
    "model2 = LinearRegression()\n",
    "model2.fit(train_X, train_y)\n",
    "y_pred_2 = model2.predict(test_X)\n",
    "test_mae2 = mean_absolute_error(test_y, y_pred_2)\n",
    "test_rmse2 = mean_squared_error(test_y, y_pred_2, squared=False)\n",
    "test_r2_2 = r2_score(test_y, y_pred_2)"
   ]
  },
  {
   "cell_type": "code",
   "execution_count": 93,
   "metadata": {},
   "outputs": [
    {
     "name": "stdout",
     "output_type": "stream",
     "text": [
      "  Model      MAE     RMSE  Normalized MAE  Normalized RMSE     OSR2\n",
      "Model 1 0.368092 0.455405        0.092023         0.113851 0.042862\n",
      "Model 2 0.371157 0.458016        0.092789         0.114504 0.031852\n"
     ]
    }
   ],
   "source": [
    "# Create a table with the results\n",
    "results = pd.DataFrame({\n",
    "    'Model': ['Model 1', 'Model 2'],\n",
    "    'MAE': [test_mae1, test_mae2],\n",
    "    'RMSE': [test_rmse1, test_rmse2],\n",
    "    'Normalized MAE': [test_mae1/4, test_mae2/4],\n",
    "    'Normalized RMSE': [test_rmse1/4, test_rmse2/4],\n",
    "    'OSR2': [test_r2_1, test_r2_2]\n",
    "})\n",
    "\n",
    "# Print the table\n",
    "print(results.to_string(index=False))"
   ]
  },
  {
   "cell_type": "markdown",
   "metadata": {},
   "source": [
    "### d) ii) "
   ]
  },
  {
   "cell_type": "code",
   "execution_count": 94,
   "metadata": {},
   "outputs": [],
   "source": [
    "# creating the dataframes \n",
    "\n",
    "val_B_X = pd.DataFrame()\n",
    "for g in range(len(unique_genre)-1):\n",
    "    val_B_X['genre'+str(g+1)] = val_data_B['genre'].apply(lambda x : 1 if x == unique_genre[g] else 0)\n",
    "\n",
    "for y in range(len(unique_year)-1):\n",
    "    val_B_X['year'+str(y+1)] = val_data_B['year'].apply(lambda x : 1 if x == unique_year[y] else 0)\n"
   ]
  },
  {
   "cell_type": "code",
   "execution_count": 95,
   "metadata": {},
   "outputs": [],
   "source": [
    "# predicting with the trained models \n",
    "\n",
    "pred_B_1_y = model1.predict(val_B_X)\n",
    "pred_B_2_y = model2.predict(val_B_X)"
   ]
  },
  {
   "cell_type": "code",
   "execution_count": 96,
   "metadata": {},
   "outputs": [
    {
     "name": "stdout",
     "output_type": "stream",
     "text": [
      "[SoftImpute] Max Singular Value of X_init = 62.587030\n",
      "[SoftImpute] Iter 1: observed MAE=0.770594 rank=6\n",
      "[SoftImpute] Iter 2: observed MAE=0.756299 rank=6\n",
      "[SoftImpute] Iter 3: observed MAE=0.748058 rank=6\n",
      "[SoftImpute] Iter 4: observed MAE=0.741980 rank=6\n",
      "[SoftImpute] Iter 5: observed MAE=0.737155 rank=6\n",
      "[SoftImpute] Iter 6: observed MAE=0.733282 rank=6\n",
      "[SoftImpute] Iter 7: observed MAE=0.730110 rank=6\n",
      "[SoftImpute] Iter 8: observed MAE=0.727480 rank=6\n",
      "[SoftImpute] Iter 9: observed MAE=0.725215 rank=6\n",
      "[SoftImpute] Iter 10: observed MAE=0.723249 rank=6\n",
      "[SoftImpute] Iter 11: observed MAE=0.721563 rank=6\n",
      "[SoftImpute] Iter 12: observed MAE=0.720066 rank=6\n",
      "[SoftImpute] Iter 13: observed MAE=0.718758 rank=6\n",
      "[SoftImpute] Iter 14: observed MAE=0.717550 rank=6\n",
      "[SoftImpute] Iter 15: observed MAE=0.716548 rank=6\n",
      "[SoftImpute] Iter 16: observed MAE=0.715662 rank=6\n",
      "[SoftImpute] Iter 17: observed MAE=0.714871 rank=6\n",
      "[SoftImpute] Iter 18: observed MAE=0.714153 rank=6\n",
      "[SoftImpute] Iter 19: observed MAE=0.713538 rank=6\n",
      "[SoftImpute] Iter 20: observed MAE=0.712973 rank=6\n",
      "[SoftImpute] Iter 21: observed MAE=0.712485 rank=6\n",
      "[SoftImpute] Iter 22: observed MAE=0.712024 rank=6\n",
      "[SoftImpute] Iter 23: observed MAE=0.711618 rank=6\n",
      "[SoftImpute] Iter 24: observed MAE=0.711263 rank=6\n",
      "[SoftImpute] Iter 25: observed MAE=0.710910 rank=6\n",
      "[SoftImpute] Iter 26: observed MAE=0.710596 rank=6\n",
      "[SoftImpute] Iter 27: observed MAE=0.710298 rank=6\n",
      "[SoftImpute] Iter 28: observed MAE=0.710036 rank=6\n",
      "[SoftImpute] Iter 29: observed MAE=0.709813 rank=6\n",
      "[SoftImpute] Iter 30: observed MAE=0.709589 rank=6\n",
      "[SoftImpute] Iter 31: observed MAE=0.709386 rank=6\n",
      "[SoftImpute] Iter 32: observed MAE=0.709183 rank=6\n",
      "[SoftImpute] Iter 33: observed MAE=0.709007 rank=6\n",
      "[SoftImpute] Iter 34: observed MAE=0.708841 rank=6\n",
      "[SoftImpute] Iter 35: observed MAE=0.708697 rank=6\n",
      "[SoftImpute] Iter 36: observed MAE=0.708549 rank=6\n",
      "[SoftImpute] Iter 37: observed MAE=0.708407 rank=6\n",
      "[SoftImpute] Iter 38: observed MAE=0.708285 rank=6\n",
      "[SoftImpute] Iter 39: observed MAE=0.708163 rank=6\n",
      "[SoftImpute] Iter 40: observed MAE=0.708043 rank=6\n",
      "[SoftImpute] Iter 41: observed MAE=0.707930 rank=6\n",
      "[SoftImpute] Iter 42: observed MAE=0.707840 rank=6\n",
      "[SoftImpute] Iter 43: observed MAE=0.707742 rank=6\n",
      "[SoftImpute] Iter 44: observed MAE=0.707644 rank=6\n",
      "[SoftImpute] Iter 45: observed MAE=0.707559 rank=6\n",
      "[SoftImpute] Iter 46: observed MAE=0.707481 rank=6\n",
      "[SoftImpute] Iter 47: observed MAE=0.707396 rank=6\n",
      "[SoftImpute] Iter 48: observed MAE=0.707330 rank=6\n",
      "[SoftImpute] Iter 49: observed MAE=0.707252 rank=6\n",
      "[SoftImpute] Iter 50: observed MAE=0.707175 rank=6\n",
      "[SoftImpute] Iter 51: observed MAE=0.707101 rank=6\n",
      "[SoftImpute] Iter 52: observed MAE=0.707030 rank=6\n",
      "[SoftImpute] Iter 53: observed MAE=0.706972 rank=6\n",
      "[SoftImpute] Iter 54: observed MAE=0.706934 rank=6\n",
      "[SoftImpute] Iter 55: observed MAE=0.706862 rank=6\n",
      "[SoftImpute] Iter 56: observed MAE=0.706803 rank=6\n",
      "[SoftImpute] Iter 57: observed MAE=0.706763 rank=6\n",
      "[SoftImpute] Iter 58: observed MAE=0.706711 rank=6\n",
      "[SoftImpute] Iter 59: observed MAE=0.706662 rank=6\n",
      "[SoftImpute] Iter 60: observed MAE=0.706612 rank=6\n",
      "[SoftImpute] Iter 61: observed MAE=0.706573 rank=6\n",
      "[SoftImpute] Iter 62: observed MAE=0.706532 rank=6\n",
      "[SoftImpute] Iter 63: observed MAE=0.706491 rank=6\n",
      "[SoftImpute] Iter 64: observed MAE=0.706452 rank=6\n",
      "[SoftImpute] Iter 65: observed MAE=0.706417 rank=6\n",
      "[SoftImpute] Iter 66: observed MAE=0.706370 rank=6\n",
      "[SoftImpute] Iter 67: observed MAE=0.706333 rank=6\n",
      "[SoftImpute] Iter 68: observed MAE=0.706299 rank=6\n",
      "[SoftImpute] Iter 69: observed MAE=0.706261 rank=6\n",
      "[SoftImpute] Iter 70: observed MAE=0.706222 rank=6\n",
      "[SoftImpute] Iter 71: observed MAE=0.706179 rank=6\n",
      "[SoftImpute] Iter 72: observed MAE=0.706142 rank=6\n",
      "[SoftImpute] Iter 73: observed MAE=0.706109 rank=6\n",
      "[SoftImpute] Iter 74: observed MAE=0.706074 rank=6\n",
      "[SoftImpute] Iter 75: observed MAE=0.706042 rank=6\n",
      "[SoftImpute] Iter 76: observed MAE=0.706021 rank=6\n",
      "[SoftImpute] Iter 77: observed MAE=0.705974 rank=6\n",
      "[SoftImpute] Iter 78: observed MAE=0.705953 rank=6\n",
      "[SoftImpute] Iter 79: observed MAE=0.705934 rank=6\n",
      "[SoftImpute] Iter 80: observed MAE=0.705901 rank=6\n",
      "[SoftImpute] Iter 81: observed MAE=0.705881 rank=6\n",
      "[SoftImpute] Iter 82: observed MAE=0.705846 rank=6\n",
      "[SoftImpute] Iter 83: observed MAE=0.705820 rank=6\n",
      "[SoftImpute] Iter 84: observed MAE=0.705799 rank=6\n",
      "[SoftImpute] Iter 85: observed MAE=0.705762 rank=6\n",
      "[SoftImpute] Iter 86: observed MAE=0.705747 rank=6\n",
      "[SoftImpute] Iter 87: observed MAE=0.705699 rank=6\n",
      "[SoftImpute] Iter 88: observed MAE=0.705673 rank=6\n",
      "[SoftImpute] Iter 89: observed MAE=0.705636 rank=6\n",
      "[SoftImpute] Iter 90: observed MAE=0.705626 rank=6\n",
      "[SoftImpute] Iter 91: observed MAE=0.705606 rank=6\n",
      "[SoftImpute] Iter 92: observed MAE=0.705585 rank=6\n",
      "[SoftImpute] Iter 93: observed MAE=0.705575 rank=6\n",
      "[SoftImpute] Iter 94: observed MAE=0.705553 rank=6\n",
      "[SoftImpute] Iter 95: observed MAE=0.705527 rank=6\n",
      "[SoftImpute] Iter 96: observed MAE=0.705510 rank=6\n",
      "[SoftImpute] Iter 97: observed MAE=0.705510 rank=6\n",
      "[SoftImpute] Iter 98: observed MAE=0.705481 rank=6\n",
      "[SoftImpute] Iter 99: observed MAE=0.705452 rank=6\n",
      "[SoftImpute] Iter 100: observed MAE=0.705433 rank=6\n",
      "[SoftImpute] Stopped after iteration 100 for lambda=1.251741\n"
     ]
    }
   ],
   "source": [
    "#fitting the Soft Imputer\n",
    "\n",
    "val_B_pivot = val_data_B.pivot_table(index=\"userID\", columns = \"songID\", values = \"rating\", dropna=False)\n",
    "val_B_pivot = pd.merge(pd.Series(train_data_pivot.index),val_B_pivot.reset_index(),how='outer',on='userID').set_index('userID')\n",
    "matrix_val_B = val_B_pivot.to_numpy()\n",
    "matrix_val_B_mask =  ~np.isnan(matrix_val_B)\n",
    "\n",
    "\n",
    "mat_B_centered_filled = soft_imputer.fit_transform(train_data_centered)\n",
    "val_B_soft_imputer_filled = biscaler.inverse_transform(mat_B_centered_filled)\n",
    "val_B_soft_imputer_filled = np.clip(test_soft_imputer_filled, 1, 5)"
   ]
  },
  {
   "cell_type": "code",
   "execution_count": 97,
   "metadata": {},
   "outputs": [],
   "source": [
    "# computing the predicted ratings for val B dataset\n",
    "\n",
    "y_coll_filter_B = []\n",
    "\n",
    "for i in range(len(val_data_B)):\n",
    "    user , song = val_data_B['userID'].iloc[i]-1 , val_data_B['songID'].iloc[i]-1\n",
    "    y_coll_filter_B.append(val_B_soft_imputer_filled[user,song])\n",
    "\n",
    "y_coll_filter_B = pd.Series(y_coll_filter_B)"
   ]
  },
  {
   "cell_type": "code",
   "execution_count": 98,
   "metadata": {},
   "outputs": [],
   "source": [
    "# Construct the predictor and target variables\n",
    "X = pd.DataFrame({\n",
    "    'Regression Tree': pred_B_1_y,\n",
    "    'Linear Regression': pred_B_2_y,\n",
    "    'Collaborative Filtering': y_coll_filter_B\n",
    "})\n",
    "y = val_data_B['rating']\n"
   ]
  },
  {
   "cell_type": "code",
   "execution_count": 99,
   "metadata": {},
   "outputs": [],
   "source": [
    "# Fit the OLS regression model\n",
    "model = sm.OLS(y, X).fit()\n"
   ]
  },
  {
   "cell_type": "code",
   "execution_count": 100,
   "metadata": {},
   "outputs": [
    {
     "name": "stdout",
     "output_type": "stream",
     "text": [
      "                                 OLS Regression Results                                \n",
      "=======================================================================================\n",
      "Dep. Variable:                 rating   R-squared (uncentered):                   0.926\n",
      "Model:                            OLS   Adj. R-squared (uncentered):              0.926\n",
      "Method:                 Least Squares   F-statistic:                          6.014e+04\n",
      "Date:                Sun, 23 Apr 2023   Prob (F-statistic):                        0.00\n",
      "Time:                        21:35:02   Log-Likelihood:                         -6559.3\n",
      "No. Observations:               14471   AIC:                                  1.312e+04\n",
      "Df Residuals:                   14468   BIC:                                  1.315e+04\n",
      "Df Model:                           3                                                  \n",
      "Covariance Type:            nonrobust                                                  \n",
      "===========================================================================================\n",
      "                              coef    std err          t      P>|t|      [0.025      0.975]\n",
      "-------------------------------------------------------------------------------------------\n",
      "Regression Tree             0.1797      0.062      2.887      0.004       0.058       0.302\n",
      "Linear Regression           0.0111      0.061      0.182      0.856      -0.109       0.131\n",
      "Collaborative Filtering     0.8013      0.011     74.286      0.000       0.780       0.822\n",
      "==============================================================================\n",
      "Omnibus:                     3034.196   Durbin-Watson:                   2.015\n",
      "Prob(Omnibus):                  0.000   Jarque-Bera (JB):             9202.653\n",
      "Skew:                           1.084   Prob(JB):                         0.00\n",
      "Kurtosis:                       6.251   Cond. No.                         63.4\n",
      "==============================================================================\n",
      "\n",
      "Warnings:\n",
      "[1] Standard Errors assume that the covariance matrix of the errors is correctly specified.\n"
     ]
    }
   ],
   "source": [
    "# Print the model summary\n",
    "print(model.summary())"
   ]
  },
  {
   "cell_type": "code",
   "execution_count": 101,
   "metadata": {},
   "outputs": [],
   "source": [
    "# prediciting outcomes for both models for coll filtering\n",
    "\n",
    "y_test_1 = model1.predict(test_X)\n",
    "y_test_2 = model2.predict(test_X)\n",
    "y_coll_filter = []"
   ]
  },
  {
   "cell_type": "code",
   "execution_count": 102,
   "metadata": {},
   "outputs": [],
   "source": [
    "# defining collaborative filtering series\n",
    "\n",
    "for i in range(len(test_data)):\n",
    "    user , song = test_data['userID'].iloc[i]-1 , test_data['songID'].iloc[i]-1\n",
    "    y_coll_filter.append(test_soft_imputer_filled[user,song])\n",
    "\n",
    "y_coll_filter = pd.Series(y_coll_filter)"
   ]
  },
  {
   "cell_type": "code",
   "execution_count": 103,
   "metadata": {},
   "outputs": [],
   "source": [
    "#predicitng results for blended model\n",
    "\n",
    "X = pd.DataFrame(\n",
    "    {'Regression Tree': y_test_1, \n",
    "    'Linear Regression': y_test_2, \n",
    "    'Collaborative Filtering': y_coll_filter})\n",
    "\n",
    "y_test = test_data['rating']\n",
    "y_blended = model.predict(X)"
   ]
  },
  {
   "cell_type": "code",
   "execution_count": 104,
   "metadata": {},
   "outputs": [],
   "source": [
    "# defining metrics for each model\n",
    "\n",
    "models =  ['Regression Tree','Linear Regression','Collaborative Filtering','Blended']\n",
    "metrics = ['Normalized RMSE','Normalized MAE','OSR2']\n",
    "\n",
    "RMSE = [test_rmse1/4, test_rmse2/4, mean_squared_error(y_test, y_coll_filter, squared=False)/4, mean_squared_error(y_test, y_blended, squared=False)/4]\n",
    "MAE = [test_mae1/4, test_mae2/4,mean_absolute_error(y_test, y_coll_filter)/4, mean_absolute_error(y_test, y_blended)/4]\n",
    "OSR2 = [test_r2_1, test_r2_2, r2_score(y_test, y_coll_filter), r2_score(y_test, y_blended)]"
   ]
  },
  {
   "cell_type": "code",
   "execution_count": 105,
   "metadata": {},
   "outputs": [
    {
     "data": {
      "text/html": [
       "<div>\n",
       "<style scoped>\n",
       "    .dataframe tbody tr th:only-of-type {\n",
       "        vertical-align: middle;\n",
       "    }\n",
       "\n",
       "    .dataframe tbody tr th {\n",
       "        vertical-align: top;\n",
       "    }\n",
       "\n",
       "    .dataframe thead th {\n",
       "        text-align: right;\n",
       "    }\n",
       "</style>\n",
       "<table border=\"1\" class=\"dataframe\">\n",
       "  <thead>\n",
       "    <tr style=\"text-align: right;\">\n",
       "      <th></th>\n",
       "      <th>Normalized RMSE</th>\n",
       "      <th>Normalized MAE</th>\n",
       "      <th>OSR2</th>\n",
       "    </tr>\n",
       "  </thead>\n",
       "  <tbody>\n",
       "    <tr>\n",
       "      <th>Regression Tree</th>\n",
       "      <td>0.113851</td>\n",
       "      <td>0.092023</td>\n",
       "      <td>0.042862</td>\n",
       "    </tr>\n",
       "    <tr>\n",
       "      <th>Linear Regression</th>\n",
       "      <td>0.114504</td>\n",
       "      <td>0.092789</td>\n",
       "      <td>0.031852</td>\n",
       "    </tr>\n",
       "    <tr>\n",
       "      <th>Collaborative Filtering</th>\n",
       "      <td>0.096641</td>\n",
       "      <td>0.070704</td>\n",
       "      <td>0.310356</td>\n",
       "    </tr>\n",
       "    <tr>\n",
       "      <th>Blended</th>\n",
       "      <td>0.095779</td>\n",
       "      <td>0.072535</td>\n",
       "      <td>0.322614</td>\n",
       "    </tr>\n",
       "  </tbody>\n",
       "</table>\n",
       "</div>"
      ],
      "text/plain": [
       "                         Normalized RMSE  Normalized MAE      OSR2\n",
       "Regression Tree                 0.113851        0.092023  0.042862\n",
       "Linear Regression               0.114504        0.092789  0.031852\n",
       "Collaborative Filtering         0.096641        0.070704  0.310356\n",
       "Blended                         0.095779        0.072535  0.322614"
      ]
     },
     "execution_count": 105,
     "metadata": {},
     "output_type": "execute_result"
    }
   ],
   "source": [
    "#print the results \n",
    "\n",
    "table = pd.DataFrame(columns = metrics ,data={'Normalized RMSE' :RMSE,'Normalized MAE' :MAE , 'OSR2' :OSR2},index=models)\n",
    "table"
   ]
  }
 ],
 "metadata": {
  "kernelspec": {
   "display_name": "Python 3.7.6 ('base')",
   "language": "python",
   "name": "python3"
  },
  "language_info": {
   "codemirror_mode": {
    "name": "ipython",
    "version": 3
   },
   "file_extension": ".py",
   "mimetype": "text/x-python",
   "name": "python",
   "nbconvert_exporter": "python",
   "pygments_lexer": "ipython3",
   "version": "3.7.6"
  },
  "orig_nbformat": 4,
  "vscode": {
   "interpreter": {
    "hash": "a05f4eab8a48e0fb699a9c4d2ff5136ad6fe08181e3a510e3ac6da38970e2134"
   }
  }
 },
 "nbformat": 4,
 "nbformat_minor": 2
}
