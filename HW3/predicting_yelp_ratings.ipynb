{
 "cells": [
  {
   "cell_type": "code",
   "execution_count": 68,
   "metadata": {},
   "outputs": [],
   "source": [
    "import pandas as pd\n",
    "import numpy as np\n",
    "import sklearn \n",
    "import matplotlib.pyplot as plt\n",
    "import seaborn as sns\n",
    "import statsmodels.api as sm\n",
    "import re\n",
    "from sklearn.metrics import classification_report, accuracy_score\n",
    "from sklearn import tree\n",
    "from sklearn.model_selection import train_test_split\n",
    "import plotly.graph_objects as go\n",
    "import graphviz\n",
    "from sklearn.model_selection import KFold\n",
    "import warnings\n",
    "import plotly.express as px\n",
    "from sklearn.model_selection import cross_val_score\n",
    "\n",
    "np.random.seed(2)\n",
    "warnings.filterwarnings(action=\"always\")"
   ]
  },
  {
   "cell_type": "code",
   "execution_count": 21,
   "metadata": {},
   "outputs": [],
   "source": [
    "#reading the csv files\n",
    "train_data=pd.read_csv('yelp242_train.csv')\n",
    "test_data=pd.read_csv('yelp242_test.csv')"
   ]
  },
  {
   "cell_type": "code",
   "execution_count": 22,
   "metadata": {},
   "outputs": [
    {
     "data": {
      "text/html": [
       "<div>\n",
       "<style scoped>\n",
       "    .dataframe tbody tr th:only-of-type {\n",
       "        vertical-align: middle;\n",
       "    }\n",
       "\n",
       "    .dataframe tbody tr th {\n",
       "        vertical-align: top;\n",
       "    }\n",
       "\n",
       "    .dataframe thead th {\n",
       "        text-align: right;\n",
       "    }\n",
       "</style>\n",
       "<table border=\"1\" class=\"dataframe\">\n",
       "  <thead>\n",
       "    <tr style=\"text-align: right;\">\n",
       "      <th></th>\n",
       "      <th>stars</th>\n",
       "      <th>review_count</th>\n",
       "      <th>GoodForKids</th>\n",
       "      <th>Alcohol</th>\n",
       "      <th>BusinessAcceptsCreditCards</th>\n",
       "      <th>WiFi</th>\n",
       "      <th>BikeParking</th>\n",
       "      <th>ByAppointmentOnly</th>\n",
       "      <th>WheelechairAccessible</th>\n",
       "      <th>OutdoorSeating</th>\n",
       "      <th>RestaurantsReservations</th>\n",
       "      <th>DogsAllowed</th>\n",
       "      <th>Caters</th>\n",
       "    </tr>\n",
       "  </thead>\n",
       "  <tbody>\n",
       "    <tr>\n",
       "      <th>0</th>\n",
       "      <td>3.5</td>\n",
       "      <td>79</td>\n",
       "      <td>FALSE</td>\n",
       "      <td>'full_bar'</td>\n",
       "      <td>TRUE</td>\n",
       "      <td>'no'</td>\n",
       "      <td>(Missing)</td>\n",
       "      <td>(Missing)</td>\n",
       "      <td>(Missing)</td>\n",
       "      <td>FALSE</td>\n",
       "      <td>TRUE</td>\n",
       "      <td>(Missing)</td>\n",
       "      <td>FALSE</td>\n",
       "    </tr>\n",
       "    <tr>\n",
       "      <th>1</th>\n",
       "      <td>4.5</td>\n",
       "      <td>339</td>\n",
       "      <td>TRUE</td>\n",
       "      <td>'beer_and_wine'</td>\n",
       "      <td>TRUE</td>\n",
       "      <td>'no'</td>\n",
       "      <td>TRUE</td>\n",
       "      <td>(Missing)</td>\n",
       "      <td>(Missing)</td>\n",
       "      <td>FALSE</td>\n",
       "      <td>FALSE</td>\n",
       "      <td>(Missing)</td>\n",
       "      <td>FALSE</td>\n",
       "    </tr>\n",
       "    <tr>\n",
       "      <th>2</th>\n",
       "      <td>4.0</td>\n",
       "      <td>108</td>\n",
       "      <td>TRUE</td>\n",
       "      <td>'none'</td>\n",
       "      <td>TRUE</td>\n",
       "      <td>'free'</td>\n",
       "      <td>FALSE</td>\n",
       "      <td>FALSE</td>\n",
       "      <td>TRUE</td>\n",
       "      <td>FALSE</td>\n",
       "      <td>FALSE</td>\n",
       "      <td>FALSE</td>\n",
       "      <td>TRUE</td>\n",
       "    </tr>\n",
       "    <tr>\n",
       "      <th>3</th>\n",
       "      <td>4.5</td>\n",
       "      <td>106</td>\n",
       "      <td>FALSE</td>\n",
       "      <td>'full_bar'</td>\n",
       "      <td>TRUE</td>\n",
       "      <td>(Missing)</td>\n",
       "      <td>(Missing)</td>\n",
       "      <td>(Missing)</td>\n",
       "      <td>(Missing)</td>\n",
       "      <td>TRUE</td>\n",
       "      <td>TRUE</td>\n",
       "      <td>FALSE</td>\n",
       "      <td>(Missing)</td>\n",
       "    </tr>\n",
       "    <tr>\n",
       "      <th>4</th>\n",
       "      <td>3.0</td>\n",
       "      <td>3</td>\n",
       "      <td>TRUE</td>\n",
       "      <td>(Missing)</td>\n",
       "      <td>(Missing)</td>\n",
       "      <td>(Missing)</td>\n",
       "      <td>(Missing)</td>\n",
       "      <td>(Missing)</td>\n",
       "      <td>(Missing)</td>\n",
       "      <td>(Missing)</td>\n",
       "      <td>(Missing)</td>\n",
       "      <td>(Missing)</td>\n",
       "      <td>(Missing)</td>\n",
       "    </tr>\n",
       "  </tbody>\n",
       "</table>\n",
       "</div>"
      ],
      "text/plain": [
       "   stars  review_count GoodForKids          Alcohol  \\\n",
       "0    3.5            79       FALSE       'full_bar'   \n",
       "1    4.5           339        TRUE  'beer_and_wine'   \n",
       "2    4.0           108        TRUE           'none'   \n",
       "3    4.5           106       FALSE       'full_bar'   \n",
       "4    3.0             3        TRUE        (Missing)   \n",
       "\n",
       "  BusinessAcceptsCreditCards       WiFi BikeParking ByAppointmentOnly  \\\n",
       "0                       TRUE       'no'   (Missing)         (Missing)   \n",
       "1                       TRUE       'no'        TRUE         (Missing)   \n",
       "2                       TRUE     'free'       FALSE             FALSE   \n",
       "3                       TRUE  (Missing)   (Missing)         (Missing)   \n",
       "4                  (Missing)  (Missing)   (Missing)         (Missing)   \n",
       "\n",
       "  WheelechairAccessible OutdoorSeating RestaurantsReservations DogsAllowed  \\\n",
       "0             (Missing)          FALSE                    TRUE   (Missing)   \n",
       "1             (Missing)          FALSE                   FALSE   (Missing)   \n",
       "2                  TRUE          FALSE                   FALSE       FALSE   \n",
       "3             (Missing)           TRUE                    TRUE       FALSE   \n",
       "4             (Missing)      (Missing)               (Missing)   (Missing)   \n",
       "\n",
       "      Caters  \n",
       "0      FALSE  \n",
       "1      FALSE  \n",
       "2       TRUE  \n",
       "3  (Missing)  \n",
       "4  (Missing)  "
      ]
     },
     "execution_count": 22,
     "metadata": {},
     "output_type": "execute_result"
    }
   ],
   "source": [
    "#quick look at the data\n",
    "train_data.head()"
   ]
  },
  {
   "cell_type": "code",
   "execution_count": 23,
   "metadata": {},
   "outputs": [
    {
     "data": {
      "text/plain": [
       "{'TRUE': 5790, '(Missing)': 391, 'FALSE': 91}"
      ]
     },
     "execution_count": 23,
     "metadata": {},
     "output_type": "execute_result"
    }
   ],
   "source": [
    "#looking at the distribution for one specific feature\n",
    "dict(pd.value_counts((train_data[\"BusinessAcceptsCreditCards\"])))"
   ]
  },
  {
   "cell_type": "code",
   "execution_count": 24,
   "metadata": {},
   "outputs": [
    {
     "name": "stderr",
     "output_type": "stream",
     "text": [
      "/Users/ghitaalami/opt/anaconda3/lib/python3.7/site-packages/seaborn/categorical.py:340: DeprecationWarning: `np.float` is a deprecated alias for the builtin `float`. To silence this warning, use `float` by itself. Doing this will not modify any behavior and is safe. If you specifically wanted the numpy scalar type, use `np.float64` here.\n",
      "Deprecated in NumPy 1.20; for more details and guidance: https://numpy.org/devdocs/release/1.20.0-notes.html#deprecations\n",
      "  np.asarray(s, dtype=np.float)\n",
      "/Users/ghitaalami/opt/anaconda3/lib/python3.7/site-packages/seaborn/utils.py:538: DeprecationWarning: `np.float` is a deprecated alias for the builtin `float`. To silence this warning, use `float` by itself. Doing this will not modify any behavior and is safe. If you specifically wanted the numpy scalar type, use `np.float64` here.\n",
      "Deprecated in NumPy 1.20; for more details and guidance: https://numpy.org/devdocs/release/1.20.0-notes.html#deprecations\n",
      "  np.asarray(values).astype(np.float)\n"
     ]
    },
    {
     "data": {
      "image/png": "[encoded data removed]",
      "text/plain": [
       "<Figure size 432x288 with 1 Axes>"
      ]
     },
     "metadata": {
      "needs_background": "light"
     },
     "output_type": "display_data"
    }
   ],
   "source": [
    "# plotting the histogram of values for the comments about Alcohol \n",
    "# in the train data\n",
    "plt.figure()\n",
    "valus=pd.value_counts(train_data[\"Alcohol\"])\n",
    "sns.barplot(valus.keys(), list(valus))\n",
    "plt.show()"
   ]
  },
  {
   "cell_type": "code",
   "execution_count": 25,
   "metadata": {},
   "outputs": [
    {
     "name": "stderr",
     "output_type": "stream",
     "text": [
      "/Users/ghitaalami/opt/anaconda3/lib/python3.7/site-packages/seaborn/categorical.py:340: DeprecationWarning: `np.float` is a deprecated alias for the builtin `float`. To silence this warning, use `float` by itself. Doing this will not modify any behavior and is safe. If you specifically wanted the numpy scalar type, use `np.float64` here.\n",
      "Deprecated in NumPy 1.20; for more details and guidance: https://numpy.org/devdocs/release/1.20.0-notes.html#deprecations\n",
      "  np.asarray(s, dtype=np.float)\n",
      "/Users/ghitaalami/opt/anaconda3/lib/python3.7/site-packages/seaborn/utils.py:538: DeprecationWarning: `np.float` is a deprecated alias for the builtin `float`. To silence this warning, use `float` by itself. Doing this will not modify any behavior and is safe. If you specifically wanted the numpy scalar type, use `np.float64` here.\n",
      "Deprecated in NumPy 1.20; for more details and guidance: https://numpy.org/devdocs/release/1.20.0-notes.html#deprecations\n",
      "  np.asarray(values).astype(np.float)\n"
     ]
    },
    {
     "data": {
      "image/png": "[encoded data removed]",
      "text/plain": [
       "<Figure size 432x288 with 1 Axes>"
      ]
     },
     "metadata": {
      "needs_background": "light"
     },
     "output_type": "display_data"
    }
   ],
   "source": [
    "# plotting the histogram of values for the comments about Alcohol \n",
    "# in the test data\n",
    "plt.figure()\n",
    "valus=pd.value_counts(test_data[\"Alcohol\"])\n",
    "sns.barplot(valus.keys(), list(valus))\n",
    "plt.show()"
   ]
  },
  {
   "cell_type": "code",
   "execution_count": 26,
   "metadata": {},
   "outputs": [
    {
     "data": {
      "text/plain": [
       "stars                         0.000000\n",
       "review_count                  0.000000\n",
       "GoodForKids                   0.301658\n",
       "Alcohol                       0.336894\n",
       "BusinessAcceptsCreditCards    0.062341\n",
       "WiFi                          0.323661\n",
       "BikeParking                   0.292092\n",
       "ByAppointmentOnly             0.883291\n",
       "WheelechairAccessible         0.740753\n",
       "OutdoorSeating                0.270568\n",
       "RestaurantsReservations       0.311543\n",
       "DogsAllowed                   0.725128\n",
       "Caters                        0.335619\n",
       "dtype: float64"
      ]
     },
     "execution_count": 26,
     "metadata": {},
     "output_type": "execute_result"
    }
   ],
   "source": [
    "#plotting the missing rate in the training data\n",
    "train_data[train_data=='(Missing)'].count()/len(train_data)"
   ]
  },
  {
   "cell_type": "code",
   "execution_count": 27,
   "metadata": {},
   "outputs": [
    {
     "data": {
      "text/plain": [
       "stars                         0.000000\n",
       "review_count                  0.000000\n",
       "GoodForKids                   0.302455\n",
       "Alcohol                       0.361607\n",
       "BusinessAcceptsCreditCards    0.059524\n",
       "WiFi                          0.338914\n",
       "BikeParking                   0.297991\n",
       "ByAppointmentOnly             0.867560\n",
       "WheelechairAccessible         0.752604\n",
       "OutdoorSeating                0.291667\n",
       "RestaurantsReservations       0.326265\n",
       "DogsAllowed                   0.729539\n",
       "Caters                        0.354167\n",
       "dtype: float64"
      ]
     },
     "execution_count": 27,
     "metadata": {},
     "output_type": "execute_result"
    }
   ],
   "source": [
    "#plotting the missing rate in the test data\n",
    "test_data[test_data=='(Missing)'].count()/len(test_data)"
   ]
  },
  {
   "cell_type": "markdown",
   "metadata": {},
   "source": [
    "# Missing entries\n",
    "\n",
    "There are many missing entries in this dataset, denoted by (Missing) in the data\n",
    "files. In particular, all of the attribute features contain missing values and the two previous cells report\n",
    "the percentage of observations where each attribute is missing. In general, there are several\n",
    "approaches for dealing with missing values in supervised learning. Each attribute with missing\n",
    "values in our dataset is a categorical feature and, in the subsequent models that I will build,\n",
    "I will treat (Missing) as an explicit category.\n",
    "\n",
    "I believe this is a reasonable approach given that the fact that a value is Missing can also be a good \n",
    "feature and indication of the quality of a restaurant. Putting the value in the intercept allows \n",
    "to interpret it even better. "
   ]
  },
  {
   "cell_type": "code",
   "execution_count": 28,
   "metadata": {},
   "outputs": [
    {
     "data": {
      "text/html": [
       "<div>\n",
       "<style scoped>\n",
       "    .dataframe tbody tr th:only-of-type {\n",
       "        vertical-align: middle;\n",
       "    }\n",
       "\n",
       "    .dataframe tbody tr th {\n",
       "        vertical-align: top;\n",
       "    }\n",
       "\n",
       "    .dataframe thead th {\n",
       "        text-align: right;\n",
       "    }\n",
       "</style>\n",
       "<table border=\"1\" class=\"dataframe\">\n",
       "  <thead>\n",
       "    <tr style=\"text-align: right;\">\n",
       "      <th></th>\n",
       "      <th>stars</th>\n",
       "      <th>review_count</th>\n",
       "      <th>GoodForKids_FALSE</th>\n",
       "      <th>GoodForKids_TRUE</th>\n",
       "      <th>Alcohol_'beer_and_wine'</th>\n",
       "      <th>Alcohol_'full_bar'</th>\n",
       "      <th>Alcohol_'none'</th>\n",
       "      <th>BusinessAcceptsCreditCards_FALSE</th>\n",
       "      <th>BusinessAcceptsCreditCards_TRUE</th>\n",
       "      <th>WiFi_'free'</th>\n",
       "      <th>...</th>\n",
       "      <th>WheelechairAccessible_FALSE</th>\n",
       "      <th>WheelechairAccessible_TRUE</th>\n",
       "      <th>OutdoorSeating_FALSE</th>\n",
       "      <th>OutdoorSeating_TRUE</th>\n",
       "      <th>RestaurantsReservations_FALSE</th>\n",
       "      <th>RestaurantsReservations_TRUE</th>\n",
       "      <th>DogsAllowed_FALSE</th>\n",
       "      <th>DogsAllowed_TRUE</th>\n",
       "      <th>Caters_FALSE</th>\n",
       "      <th>Caters_TRUE</th>\n",
       "    </tr>\n",
       "  </thead>\n",
       "  <tbody>\n",
       "    <tr>\n",
       "      <th>0</th>\n",
       "      <td>3.5</td>\n",
       "      <td>79</td>\n",
       "      <td>1</td>\n",
       "      <td>0</td>\n",
       "      <td>0</td>\n",
       "      <td>1</td>\n",
       "      <td>0</td>\n",
       "      <td>0</td>\n",
       "      <td>1</td>\n",
       "      <td>0</td>\n",
       "      <td>...</td>\n",
       "      <td>0</td>\n",
       "      <td>0</td>\n",
       "      <td>1</td>\n",
       "      <td>0</td>\n",
       "      <td>0</td>\n",
       "      <td>1</td>\n",
       "      <td>0</td>\n",
       "      <td>0</td>\n",
       "      <td>1</td>\n",
       "      <td>0</td>\n",
       "    </tr>\n",
       "    <tr>\n",
       "      <th>1</th>\n",
       "      <td>4.5</td>\n",
       "      <td>339</td>\n",
       "      <td>0</td>\n",
       "      <td>1</td>\n",
       "      <td>1</td>\n",
       "      <td>0</td>\n",
       "      <td>0</td>\n",
       "      <td>0</td>\n",
       "      <td>1</td>\n",
       "      <td>0</td>\n",
       "      <td>...</td>\n",
       "      <td>0</td>\n",
       "      <td>0</td>\n",
       "      <td>1</td>\n",
       "      <td>0</td>\n",
       "      <td>1</td>\n",
       "      <td>0</td>\n",
       "      <td>0</td>\n",
       "      <td>0</td>\n",
       "      <td>1</td>\n",
       "      <td>0</td>\n",
       "    </tr>\n",
       "    <tr>\n",
       "      <th>2</th>\n",
       "      <td>4.0</td>\n",
       "      <td>108</td>\n",
       "      <td>0</td>\n",
       "      <td>1</td>\n",
       "      <td>0</td>\n",
       "      <td>0</td>\n",
       "      <td>1</td>\n",
       "      <td>0</td>\n",
       "      <td>1</td>\n",
       "      <td>1</td>\n",
       "      <td>...</td>\n",
       "      <td>0</td>\n",
       "      <td>1</td>\n",
       "      <td>1</td>\n",
       "      <td>0</td>\n",
       "      <td>1</td>\n",
       "      <td>0</td>\n",
       "      <td>1</td>\n",
       "      <td>0</td>\n",
       "      <td>0</td>\n",
       "      <td>1</td>\n",
       "    </tr>\n",
       "    <tr>\n",
       "      <th>3</th>\n",
       "      <td>4.5</td>\n",
       "      <td>106</td>\n",
       "      <td>1</td>\n",
       "      <td>0</td>\n",
       "      <td>0</td>\n",
       "      <td>1</td>\n",
       "      <td>0</td>\n",
       "      <td>0</td>\n",
       "      <td>1</td>\n",
       "      <td>0</td>\n",
       "      <td>...</td>\n",
       "      <td>0</td>\n",
       "      <td>0</td>\n",
       "      <td>0</td>\n",
       "      <td>1</td>\n",
       "      <td>0</td>\n",
       "      <td>1</td>\n",
       "      <td>1</td>\n",
       "      <td>0</td>\n",
       "      <td>0</td>\n",
       "      <td>0</td>\n",
       "    </tr>\n",
       "    <tr>\n",
       "      <th>4</th>\n",
       "      <td>3.0</td>\n",
       "      <td>3</td>\n",
       "      <td>0</td>\n",
       "      <td>1</td>\n",
       "      <td>0</td>\n",
       "      <td>0</td>\n",
       "      <td>0</td>\n",
       "      <td>0</td>\n",
       "      <td>0</td>\n",
       "      <td>0</td>\n",
       "      <td>...</td>\n",
       "      <td>0</td>\n",
       "      <td>0</td>\n",
       "      <td>0</td>\n",
       "      <td>0</td>\n",
       "      <td>0</td>\n",
       "      <td>0</td>\n",
       "      <td>0</td>\n",
       "      <td>0</td>\n",
       "      <td>0</td>\n",
       "      <td>0</td>\n",
       "    </tr>\n",
       "  </tbody>\n",
       "</table>\n",
       "<p>5 rows × 26 columns</p>\n",
       "</div>"
      ],
      "text/plain": [
       "   stars  review_count  GoodForKids_FALSE  GoodForKids_TRUE  \\\n",
       "0    3.5            79                  1                 0   \n",
       "1    4.5           339                  0                 1   \n",
       "2    4.0           108                  0                 1   \n",
       "3    4.5           106                  1                 0   \n",
       "4    3.0             3                  0                 1   \n",
       "\n",
       "   Alcohol_'beer_and_wine'  Alcohol_'full_bar'  Alcohol_'none'  \\\n",
       "0                        0                   1               0   \n",
       "1                        1                   0               0   \n",
       "2                        0                   0               1   \n",
       "3                        0                   1               0   \n",
       "4                        0                   0               0   \n",
       "\n",
       "   BusinessAcceptsCreditCards_FALSE  BusinessAcceptsCreditCards_TRUE  \\\n",
       "0                                 0                                1   \n",
       "1                                 0                                1   \n",
       "2                                 0                                1   \n",
       "3                                 0                                1   \n",
       "4                                 0                                0   \n",
       "\n",
       "   WiFi_'free'  ...  WheelechairAccessible_FALSE  WheelechairAccessible_TRUE  \\\n",
       "0            0  ...                            0                           0   \n",
       "1            0  ...                            0                           0   \n",
       "2            1  ...                            0                           1   \n",
       "3            0  ...                            0                           0   \n",
       "4            0  ...                            0                           0   \n",
       "\n",
       "   OutdoorSeating_FALSE  OutdoorSeating_TRUE  RestaurantsReservations_FALSE  \\\n",
       "0                     1                    0                              0   \n",
       "1                     1                    0                              1   \n",
       "2                     1                    0                              1   \n",
       "3                     0                    1                              0   \n",
       "4                     0                    0                              0   \n",
       "\n",
       "   RestaurantsReservations_TRUE  DogsAllowed_FALSE  DogsAllowed_TRUE  \\\n",
       "0                             1                  0                 0   \n",
       "1                             0                  0                 0   \n",
       "2                             0                  1                 0   \n",
       "3                             1                  1                 0   \n",
       "4                             0                  0                 0   \n",
       "\n",
       "   Caters_FALSE  Caters_TRUE  \n",
       "0             1            0  \n",
       "1             1            0  \n",
       "2             0            1  \n",
       "3             0            0  \n",
       "4             0            0  \n",
       "\n",
       "[5 rows x 26 columns]"
      ]
     },
     "execution_count": 28,
     "metadata": {},
     "output_type": "execute_result"
    }
   ],
   "source": [
    "#onhot encoding the training data with the Missing category as a reference in the intercept\n",
    "train_data=pd.get_dummies(train_data)\n",
    "cols=list(train_data.columns)\n",
    "for col in cols:\n",
    "    to_delete=re.findall(string=col, pattern=r\"\\w*(Missing)\")\n",
    "    if len(to_delete)> 0:\n",
    "        train_data.drop(col, axis=1,inplace=True)\n",
    "train_data.head()"
   ]
  },
  {
   "cell_type": "code",
   "execution_count": 29,
   "metadata": {},
   "outputs": [
    {
     "data": {
      "text/html": [
       "<div>\n",
       "<style scoped>\n",
       "    .dataframe tbody tr th:only-of-type {\n",
       "        vertical-align: middle;\n",
       "    }\n",
       "\n",
       "    .dataframe tbody tr th {\n",
       "        vertical-align: top;\n",
       "    }\n",
       "\n",
       "    .dataframe thead th {\n",
       "        text-align: right;\n",
       "    }\n",
       "</style>\n",
       "<table border=\"1\" class=\"dataframe\">\n",
       "  <thead>\n",
       "    <tr style=\"text-align: right;\">\n",
       "      <th></th>\n",
       "      <th>stars</th>\n",
       "      <th>review_count</th>\n",
       "      <th>GoodForKids_FALSE</th>\n",
       "      <th>GoodForKids_TRUE</th>\n",
       "      <th>Alcohol_'beer_and_wine'</th>\n",
       "      <th>Alcohol_'full_bar'</th>\n",
       "      <th>Alcohol_'none'</th>\n",
       "      <th>BusinessAcceptsCreditCards_FALSE</th>\n",
       "      <th>BusinessAcceptsCreditCards_TRUE</th>\n",
       "      <th>WiFi_'free'</th>\n",
       "      <th>...</th>\n",
       "      <th>WheelechairAccessible_FALSE</th>\n",
       "      <th>WheelechairAccessible_TRUE</th>\n",
       "      <th>OutdoorSeating_FALSE</th>\n",
       "      <th>OutdoorSeating_TRUE</th>\n",
       "      <th>RestaurantsReservations_FALSE</th>\n",
       "      <th>RestaurantsReservations_TRUE</th>\n",
       "      <th>DogsAllowed_FALSE</th>\n",
       "      <th>DogsAllowed_TRUE</th>\n",
       "      <th>Caters_FALSE</th>\n",
       "      <th>Caters_TRUE</th>\n",
       "    </tr>\n",
       "  </thead>\n",
       "  <tbody>\n",
       "    <tr>\n",
       "      <th>0</th>\n",
       "      <td>3.0</td>\n",
       "      <td>28</td>\n",
       "      <td>0</td>\n",
       "      <td>0</td>\n",
       "      <td>0</td>\n",
       "      <td>0</td>\n",
       "      <td>0</td>\n",
       "      <td>0</td>\n",
       "      <td>0</td>\n",
       "      <td>0</td>\n",
       "      <td>...</td>\n",
       "      <td>0</td>\n",
       "      <td>0</td>\n",
       "      <td>0</td>\n",
       "      <td>1</td>\n",
       "      <td>0</td>\n",
       "      <td>0</td>\n",
       "      <td>0</td>\n",
       "      <td>0</td>\n",
       "      <td>0</td>\n",
       "      <td>0</td>\n",
       "    </tr>\n",
       "    <tr>\n",
       "      <th>1</th>\n",
       "      <td>4.0</td>\n",
       "      <td>177</td>\n",
       "      <td>0</td>\n",
       "      <td>1</td>\n",
       "      <td>1</td>\n",
       "      <td>0</td>\n",
       "      <td>0</td>\n",
       "      <td>0</td>\n",
       "      <td>1</td>\n",
       "      <td>0</td>\n",
       "      <td>...</td>\n",
       "      <td>0</td>\n",
       "      <td>0</td>\n",
       "      <td>0</td>\n",
       "      <td>0</td>\n",
       "      <td>0</td>\n",
       "      <td>0</td>\n",
       "      <td>1</td>\n",
       "      <td>0</td>\n",
       "      <td>0</td>\n",
       "      <td>1</td>\n",
       "    </tr>\n",
       "    <tr>\n",
       "      <th>2</th>\n",
       "      <td>3.5</td>\n",
       "      <td>58</td>\n",
       "      <td>0</td>\n",
       "      <td>1</td>\n",
       "      <td>0</td>\n",
       "      <td>0</td>\n",
       "      <td>0</td>\n",
       "      <td>0</td>\n",
       "      <td>1</td>\n",
       "      <td>0</td>\n",
       "      <td>...</td>\n",
       "      <td>0</td>\n",
       "      <td>0</td>\n",
       "      <td>0</td>\n",
       "      <td>0</td>\n",
       "      <td>0</td>\n",
       "      <td>1</td>\n",
       "      <td>0</td>\n",
       "      <td>0</td>\n",
       "      <td>0</td>\n",
       "      <td>0</td>\n",
       "    </tr>\n",
       "    <tr>\n",
       "      <th>3</th>\n",
       "      <td>3.5</td>\n",
       "      <td>6</td>\n",
       "      <td>0</td>\n",
       "      <td>0</td>\n",
       "      <td>0</td>\n",
       "      <td>0</td>\n",
       "      <td>0</td>\n",
       "      <td>0</td>\n",
       "      <td>1</td>\n",
       "      <td>0</td>\n",
       "      <td>...</td>\n",
       "      <td>0</td>\n",
       "      <td>0</td>\n",
       "      <td>0</td>\n",
       "      <td>0</td>\n",
       "      <td>0</td>\n",
       "      <td>0</td>\n",
       "      <td>0</td>\n",
       "      <td>0</td>\n",
       "      <td>0</td>\n",
       "      <td>0</td>\n",
       "    </tr>\n",
       "    <tr>\n",
       "      <th>4</th>\n",
       "      <td>2.0</td>\n",
       "      <td>37</td>\n",
       "      <td>0</td>\n",
       "      <td>0</td>\n",
       "      <td>0</td>\n",
       "      <td>0</td>\n",
       "      <td>0</td>\n",
       "      <td>0</td>\n",
       "      <td>1</td>\n",
       "      <td>0</td>\n",
       "      <td>...</td>\n",
       "      <td>0</td>\n",
       "      <td>1</td>\n",
       "      <td>0</td>\n",
       "      <td>0</td>\n",
       "      <td>0</td>\n",
       "      <td>0</td>\n",
       "      <td>0</td>\n",
       "      <td>0</td>\n",
       "      <td>0</td>\n",
       "      <td>0</td>\n",
       "    </tr>\n",
       "  </tbody>\n",
       "</table>\n",
       "<p>5 rows × 26 columns</p>\n",
       "</div>"
      ],
      "text/plain": [
       "   stars  review_count  GoodForKids_FALSE  GoodForKids_TRUE  \\\n",
       "0    3.0            28                  0                 0   \n",
       "1    4.0           177                  0                 1   \n",
       "2    3.5            58                  0                 1   \n",
       "3    3.5             6                  0                 0   \n",
       "4    2.0            37                  0                 0   \n",
       "\n",
       "   Alcohol_'beer_and_wine'  Alcohol_'full_bar'  Alcohol_'none'  \\\n",
       "0                        0                   0               0   \n",
       "1                        1                   0               0   \n",
       "2                        0                   0               0   \n",
       "3                        0                   0               0   \n",
       "4                        0                   0               0   \n",
       "\n",
       "   BusinessAcceptsCreditCards_FALSE  BusinessAcceptsCreditCards_TRUE  \\\n",
       "0                                 0                                0   \n",
       "1                                 0                                1   \n",
       "2                                 0                                1   \n",
       "3                                 0                                1   \n",
       "4                                 0                                1   \n",
       "\n",
       "   WiFi_'free'  ...  WheelechairAccessible_FALSE  WheelechairAccessible_TRUE  \\\n",
       "0            0  ...                            0                           0   \n",
       "1            0  ...                            0                           0   \n",
       "2            0  ...                            0                           0   \n",
       "3            0  ...                            0                           0   \n",
       "4            0  ...                            0                           1   \n",
       "\n",
       "   OutdoorSeating_FALSE  OutdoorSeating_TRUE  RestaurantsReservations_FALSE  \\\n",
       "0                     0                    1                              0   \n",
       "1                     0                    0                              0   \n",
       "2                     0                    0                              0   \n",
       "3                     0                    0                              0   \n",
       "4                     0                    0                              0   \n",
       "\n",
       "   RestaurantsReservations_TRUE  DogsAllowed_FALSE  DogsAllowed_TRUE  \\\n",
       "0                             0                  0                 0   \n",
       "1                             0                  1                 0   \n",
       "2                             1                  0                 0   \n",
       "3                             0                  0                 0   \n",
       "4                             0                  0                 0   \n",
       "\n",
       "   Caters_FALSE  Caters_TRUE  \n",
       "0             0            0  \n",
       "1             0            1  \n",
       "2             0            0  \n",
       "3             0            0  \n",
       "4             0            0  \n",
       "\n",
       "[5 rows x 26 columns]"
      ]
     },
     "execution_count": 29,
     "metadata": {},
     "output_type": "execute_result"
    }
   ],
   "source": [
    "#onhot encoding the test data with the Missing category as a reference in the intercept\n",
    "test_data=pd.get_dummies(test_data)\n",
    "cols=list(test_data.columns)\n",
    "for col in cols:\n",
    "    to_delete=re.findall(string=col, pattern=r\"\\w*(Missing)\")\n",
    "    if len(to_delete)> 0:\n",
    "        test_data.drop(col, axis=1,inplace=True)\n",
    "test_data.head()"
   ]
  },
  {
   "cell_type": "code",
   "execution_count": 30,
   "metadata": {},
   "outputs": [
    {
     "data": {
      "text/html": [
       "<div>\n",
       "<style scoped>\n",
       "    .dataframe tbody tr th:only-of-type {\n",
       "        vertical-align: middle;\n",
       "    }\n",
       "\n",
       "    .dataframe tbody tr th {\n",
       "        vertical-align: top;\n",
       "    }\n",
       "\n",
       "    .dataframe thead th {\n",
       "        text-align: right;\n",
       "    }\n",
       "</style>\n",
       "<table border=\"1\" class=\"dataframe\">\n",
       "  <thead>\n",
       "    <tr style=\"text-align: right;\">\n",
       "      <th></th>\n",
       "      <th>stars</th>\n",
       "      <th>review_count</th>\n",
       "      <th>GoodForKids_FALSE</th>\n",
       "      <th>GoodForKids_TRUE</th>\n",
       "      <th>Alcohol_'beer_and_wine'</th>\n",
       "      <th>Alcohol_'full_bar'</th>\n",
       "      <th>Alcohol_'none'</th>\n",
       "      <th>BusinessAcceptsCreditCards_FALSE</th>\n",
       "      <th>BusinessAcceptsCreditCards_TRUE</th>\n",
       "      <th>WiFi_'free'</th>\n",
       "      <th>...</th>\n",
       "      <th>WheelechairAccessible_FALSE</th>\n",
       "      <th>WheelechairAccessible_TRUE</th>\n",
       "      <th>OutdoorSeating_FALSE</th>\n",
       "      <th>OutdoorSeating_TRUE</th>\n",
       "      <th>RestaurantsReservations_FALSE</th>\n",
       "      <th>RestaurantsReservations_TRUE</th>\n",
       "      <th>DogsAllowed_FALSE</th>\n",
       "      <th>DogsAllowed_TRUE</th>\n",
       "      <th>Caters_FALSE</th>\n",
       "      <th>Caters_TRUE</th>\n",
       "    </tr>\n",
       "  </thead>\n",
       "  <tbody>\n",
       "    <tr>\n",
       "      <th>0</th>\n",
       "      <td>3</td>\n",
       "      <td>79</td>\n",
       "      <td>1</td>\n",
       "      <td>0</td>\n",
       "      <td>0</td>\n",
       "      <td>1</td>\n",
       "      <td>0</td>\n",
       "      <td>0</td>\n",
       "      <td>1</td>\n",
       "      <td>0</td>\n",
       "      <td>...</td>\n",
       "      <td>0</td>\n",
       "      <td>0</td>\n",
       "      <td>1</td>\n",
       "      <td>0</td>\n",
       "      <td>0</td>\n",
       "      <td>1</td>\n",
       "      <td>0</td>\n",
       "      <td>0</td>\n",
       "      <td>1</td>\n",
       "      <td>0</td>\n",
       "    </tr>\n",
       "    <tr>\n",
       "      <th>1</th>\n",
       "      <td>4</td>\n",
       "      <td>339</td>\n",
       "      <td>0</td>\n",
       "      <td>1</td>\n",
       "      <td>1</td>\n",
       "      <td>0</td>\n",
       "      <td>0</td>\n",
       "      <td>0</td>\n",
       "      <td>1</td>\n",
       "      <td>0</td>\n",
       "      <td>...</td>\n",
       "      <td>0</td>\n",
       "      <td>0</td>\n",
       "      <td>1</td>\n",
       "      <td>0</td>\n",
       "      <td>1</td>\n",
       "      <td>0</td>\n",
       "      <td>0</td>\n",
       "      <td>0</td>\n",
       "      <td>1</td>\n",
       "      <td>0</td>\n",
       "    </tr>\n",
       "    <tr>\n",
       "      <th>2</th>\n",
       "      <td>4</td>\n",
       "      <td>108</td>\n",
       "      <td>0</td>\n",
       "      <td>1</td>\n",
       "      <td>0</td>\n",
       "      <td>0</td>\n",
       "      <td>1</td>\n",
       "      <td>0</td>\n",
       "      <td>1</td>\n",
       "      <td>1</td>\n",
       "      <td>...</td>\n",
       "      <td>0</td>\n",
       "      <td>1</td>\n",
       "      <td>1</td>\n",
       "      <td>0</td>\n",
       "      <td>1</td>\n",
       "      <td>0</td>\n",
       "      <td>1</td>\n",
       "      <td>0</td>\n",
       "      <td>0</td>\n",
       "      <td>1</td>\n",
       "    </tr>\n",
       "    <tr>\n",
       "      <th>3</th>\n",
       "      <td>4</td>\n",
       "      <td>106</td>\n",
       "      <td>1</td>\n",
       "      <td>0</td>\n",
       "      <td>0</td>\n",
       "      <td>1</td>\n",
       "      <td>0</td>\n",
       "      <td>0</td>\n",
       "      <td>1</td>\n",
       "      <td>0</td>\n",
       "      <td>...</td>\n",
       "      <td>0</td>\n",
       "      <td>0</td>\n",
       "      <td>0</td>\n",
       "      <td>1</td>\n",
       "      <td>0</td>\n",
       "      <td>1</td>\n",
       "      <td>1</td>\n",
       "      <td>0</td>\n",
       "      <td>0</td>\n",
       "      <td>0</td>\n",
       "    </tr>\n",
       "    <tr>\n",
       "      <th>4</th>\n",
       "      <td>3</td>\n",
       "      <td>3</td>\n",
       "      <td>0</td>\n",
       "      <td>1</td>\n",
       "      <td>0</td>\n",
       "      <td>0</td>\n",
       "      <td>0</td>\n",
       "      <td>0</td>\n",
       "      <td>0</td>\n",
       "      <td>0</td>\n",
       "      <td>...</td>\n",
       "      <td>0</td>\n",
       "      <td>0</td>\n",
       "      <td>0</td>\n",
       "      <td>0</td>\n",
       "      <td>0</td>\n",
       "      <td>0</td>\n",
       "      <td>0</td>\n",
       "      <td>0</td>\n",
       "      <td>0</td>\n",
       "      <td>0</td>\n",
       "    </tr>\n",
       "  </tbody>\n",
       "</table>\n",
       "<p>5 rows × 26 columns</p>\n",
       "</div>"
      ],
      "text/plain": [
       "   stars  review_count  GoodForKids_FALSE  GoodForKids_TRUE  \\\n",
       "0      3            79                  1                 0   \n",
       "1      4           339                  0                 1   \n",
       "2      4           108                  0                 1   \n",
       "3      4           106                  1                 0   \n",
       "4      3             3                  0                 1   \n",
       "\n",
       "   Alcohol_'beer_and_wine'  Alcohol_'full_bar'  Alcohol_'none'  \\\n",
       "0                        0                   1               0   \n",
       "1                        1                   0               0   \n",
       "2                        0                   0               1   \n",
       "3                        0                   1               0   \n",
       "4                        0                   0               0   \n",
       "\n",
       "   BusinessAcceptsCreditCards_FALSE  BusinessAcceptsCreditCards_TRUE  \\\n",
       "0                                 0                                1   \n",
       "1                                 0                                1   \n",
       "2                                 0                                1   \n",
       "3                                 0                                1   \n",
       "4                                 0                                0   \n",
       "\n",
       "   WiFi_'free'  ...  WheelechairAccessible_FALSE  WheelechairAccessible_TRUE  \\\n",
       "0            0  ...                            0                           0   \n",
       "1            0  ...                            0                           0   \n",
       "2            1  ...                            0                           1   \n",
       "3            0  ...                            0                           0   \n",
       "4            0  ...                            0                           0   \n",
       "\n",
       "   OutdoorSeating_FALSE  OutdoorSeating_TRUE  RestaurantsReservations_FALSE  \\\n",
       "0                     1                    0                              0   \n",
       "1                     1                    0                              1   \n",
       "2                     1                    0                              1   \n",
       "3                     0                    1                              0   \n",
       "4                     0                    0                              0   \n",
       "\n",
       "   RestaurantsReservations_TRUE  DogsAllowed_FALSE  DogsAllowed_TRUE  \\\n",
       "0                             1                  0                 0   \n",
       "1                             0                  0                 0   \n",
       "2                             0                  1                 0   \n",
       "3                             1                  1                 0   \n",
       "4                             0                  0                 0   \n",
       "\n",
       "   Caters_FALSE  Caters_TRUE  \n",
       "0             1            0  \n",
       "1             1            0  \n",
       "2             0            1  \n",
       "3             0            0  \n",
       "4             0            0  \n",
       "\n",
       "[5 rows x 26 columns]"
      ]
     },
     "execution_count": 30,
     "metadata": {},
     "output_type": "execute_result"
    }
   ],
   "source": [
    "#modifying the targets to int\n",
    "stars=list(int(float(train_data[\"stars\"][k])) for k in range(len(train_data)))\n",
    "train_data[\"stars\"]=stars    \n",
    "train_data.head()"
   ]
  },
  {
   "cell_type": "code",
   "execution_count": 31,
   "metadata": {},
   "outputs": [
    {
     "data": {
      "text/html": [
       "<div>\n",
       "<style scoped>\n",
       "    .dataframe tbody tr th:only-of-type {\n",
       "        vertical-align: middle;\n",
       "    }\n",
       "\n",
       "    .dataframe tbody tr th {\n",
       "        vertical-align: top;\n",
       "    }\n",
       "\n",
       "    .dataframe thead th {\n",
       "        text-align: right;\n",
       "    }\n",
       "</style>\n",
       "<table border=\"1\" class=\"dataframe\">\n",
       "  <thead>\n",
       "    <tr style=\"text-align: right;\">\n",
       "      <th></th>\n",
       "      <th>stars</th>\n",
       "      <th>review_count</th>\n",
       "      <th>GoodForKids_FALSE</th>\n",
       "      <th>GoodForKids_TRUE</th>\n",
       "      <th>Alcohol_'beer_and_wine'</th>\n",
       "      <th>Alcohol_'full_bar'</th>\n",
       "      <th>Alcohol_'none'</th>\n",
       "      <th>BusinessAcceptsCreditCards_FALSE</th>\n",
       "      <th>BusinessAcceptsCreditCards_TRUE</th>\n",
       "      <th>WiFi_'free'</th>\n",
       "      <th>...</th>\n",
       "      <th>WheelechairAccessible_FALSE</th>\n",
       "      <th>WheelechairAccessible_TRUE</th>\n",
       "      <th>OutdoorSeating_FALSE</th>\n",
       "      <th>OutdoorSeating_TRUE</th>\n",
       "      <th>RestaurantsReservations_FALSE</th>\n",
       "      <th>RestaurantsReservations_TRUE</th>\n",
       "      <th>DogsAllowed_FALSE</th>\n",
       "      <th>DogsAllowed_TRUE</th>\n",
       "      <th>Caters_FALSE</th>\n",
       "      <th>Caters_TRUE</th>\n",
       "    </tr>\n",
       "  </thead>\n",
       "  <tbody>\n",
       "    <tr>\n",
       "      <th>0</th>\n",
       "      <td>3</td>\n",
       "      <td>28</td>\n",
       "      <td>0</td>\n",
       "      <td>0</td>\n",
       "      <td>0</td>\n",
       "      <td>0</td>\n",
       "      <td>0</td>\n",
       "      <td>0</td>\n",
       "      <td>0</td>\n",
       "      <td>0</td>\n",
       "      <td>...</td>\n",
       "      <td>0</td>\n",
       "      <td>0</td>\n",
       "      <td>0</td>\n",
       "      <td>1</td>\n",
       "      <td>0</td>\n",
       "      <td>0</td>\n",
       "      <td>0</td>\n",
       "      <td>0</td>\n",
       "      <td>0</td>\n",
       "      <td>0</td>\n",
       "    </tr>\n",
       "    <tr>\n",
       "      <th>1</th>\n",
       "      <td>4</td>\n",
       "      <td>177</td>\n",
       "      <td>0</td>\n",
       "      <td>1</td>\n",
       "      <td>1</td>\n",
       "      <td>0</td>\n",
       "      <td>0</td>\n",
       "      <td>0</td>\n",
       "      <td>1</td>\n",
       "      <td>0</td>\n",
       "      <td>...</td>\n",
       "      <td>0</td>\n",
       "      <td>0</td>\n",
       "      <td>0</td>\n",
       "      <td>0</td>\n",
       "      <td>0</td>\n",
       "      <td>0</td>\n",
       "      <td>1</td>\n",
       "      <td>0</td>\n",
       "      <td>0</td>\n",
       "      <td>1</td>\n",
       "    </tr>\n",
       "    <tr>\n",
       "      <th>2</th>\n",
       "      <td>3</td>\n",
       "      <td>58</td>\n",
       "      <td>0</td>\n",
       "      <td>1</td>\n",
       "      <td>0</td>\n",
       "      <td>0</td>\n",
       "      <td>0</td>\n",
       "      <td>0</td>\n",
       "      <td>1</td>\n",
       "      <td>0</td>\n",
       "      <td>...</td>\n",
       "      <td>0</td>\n",
       "      <td>0</td>\n",
       "      <td>0</td>\n",
       "      <td>0</td>\n",
       "      <td>0</td>\n",
       "      <td>1</td>\n",
       "      <td>0</td>\n",
       "      <td>0</td>\n",
       "      <td>0</td>\n",
       "      <td>0</td>\n",
       "    </tr>\n",
       "    <tr>\n",
       "      <th>3</th>\n",
       "      <td>3</td>\n",
       "      <td>6</td>\n",
       "      <td>0</td>\n",
       "      <td>0</td>\n",
       "      <td>0</td>\n",
       "      <td>0</td>\n",
       "      <td>0</td>\n",
       "      <td>0</td>\n",
       "      <td>1</td>\n",
       "      <td>0</td>\n",
       "      <td>...</td>\n",
       "      <td>0</td>\n",
       "      <td>0</td>\n",
       "      <td>0</td>\n",
       "      <td>0</td>\n",
       "      <td>0</td>\n",
       "      <td>0</td>\n",
       "      <td>0</td>\n",
       "      <td>0</td>\n",
       "      <td>0</td>\n",
       "      <td>0</td>\n",
       "    </tr>\n",
       "    <tr>\n",
       "      <th>4</th>\n",
       "      <td>2</td>\n",
       "      <td>37</td>\n",
       "      <td>0</td>\n",
       "      <td>0</td>\n",
       "      <td>0</td>\n",
       "      <td>0</td>\n",
       "      <td>0</td>\n",
       "      <td>0</td>\n",
       "      <td>1</td>\n",
       "      <td>0</td>\n",
       "      <td>...</td>\n",
       "      <td>0</td>\n",
       "      <td>1</td>\n",
       "      <td>0</td>\n",
       "      <td>0</td>\n",
       "      <td>0</td>\n",
       "      <td>0</td>\n",
       "      <td>0</td>\n",
       "      <td>0</td>\n",
       "      <td>0</td>\n",
       "      <td>0</td>\n",
       "    </tr>\n",
       "  </tbody>\n",
       "</table>\n",
       "<p>5 rows × 26 columns</p>\n",
       "</div>"
      ],
      "text/plain": [
       "   stars  review_count  GoodForKids_FALSE  GoodForKids_TRUE  \\\n",
       "0      3            28                  0                 0   \n",
       "1      4           177                  0                 1   \n",
       "2      3            58                  0                 1   \n",
       "3      3             6                  0                 0   \n",
       "4      2            37                  0                 0   \n",
       "\n",
       "   Alcohol_'beer_and_wine'  Alcohol_'full_bar'  Alcohol_'none'  \\\n",
       "0                        0                   0               0   \n",
       "1                        1                   0               0   \n",
       "2                        0                   0               0   \n",
       "3                        0                   0               0   \n",
       "4                        0                   0               0   \n",
       "\n",
       "   BusinessAcceptsCreditCards_FALSE  BusinessAcceptsCreditCards_TRUE  \\\n",
       "0                                 0                                0   \n",
       "1                                 0                                1   \n",
       "2                                 0                                1   \n",
       "3                                 0                                1   \n",
       "4                                 0                                1   \n",
       "\n",
       "   WiFi_'free'  ...  WheelechairAccessible_FALSE  WheelechairAccessible_TRUE  \\\n",
       "0            0  ...                            0                           0   \n",
       "1            0  ...                            0                           0   \n",
       "2            0  ...                            0                           0   \n",
       "3            0  ...                            0                           0   \n",
       "4            0  ...                            0                           1   \n",
       "\n",
       "   OutdoorSeating_FALSE  OutdoorSeating_TRUE  RestaurantsReservations_FALSE  \\\n",
       "0                     0                    1                              0   \n",
       "1                     0                    0                              0   \n",
       "2                     0                    0                              0   \n",
       "3                     0                    0                              0   \n",
       "4                     0                    0                              0   \n",
       "\n",
       "   RestaurantsReservations_TRUE  DogsAllowed_FALSE  DogsAllowed_TRUE  \\\n",
       "0                             0                  0                 0   \n",
       "1                             0                  1                 0   \n",
       "2                             1                  0                 0   \n",
       "3                             0                  0                 0   \n",
       "4                             0                  0                 0   \n",
       "\n",
       "   Caters_FALSE  Caters_TRUE  \n",
       "0             0            0  \n",
       "1             0            1  \n",
       "2             0            0  \n",
       "3             0            0  \n",
       "4             0            0  \n",
       "\n",
       "[5 rows x 26 columns]"
      ]
     },
     "execution_count": 31,
     "metadata": {},
     "output_type": "execute_result"
    }
   ],
   "source": [
    "#modifying the targets to int\n",
    "stars=list(int(float(test_data[\"stars\"][k])) for k in range(len(test_data)))\n",
    "test_data[\"stars\"]=stars    \n",
    "test_data.head()"
   ]
  },
  {
   "cell_type": "markdown",
   "metadata": {},
   "source": [
    "# Linear Regression model \n",
    "\n",
    "I am going to try a regression model while treating each class as a continuous variable. This is what I get. "
   ]
  },
  {
   "cell_type": "code",
   "execution_count": 71,
   "metadata": {},
   "outputs": [
    {
     "name": "stderr",
     "output_type": "stream",
     "text": [
      "/Users/ghitaalami/opt/anaconda3/lib/python3.7/site-packages/statsmodels/tsa/tsatools.py:130: FutureWarning: In a future version of pandas all arguments of concat except for the argument 'objs' will be keyword-only\n",
      "  x = pd.concat(x[::order], 1)\n",
      "/Users/ghitaalami/opt/anaconda3/lib/python3.7/site-packages/statsmodels/tsa/tsatools.py:130: FutureWarning: In a future version of pandas all arguments of concat except for the argument 'objs' will be keyword-only\n",
      "  x = pd.concat(x[::order], 1)\n"
     ]
    },
    {
     "data": {
      "text/html": [
       "<table class=\"simpletable\">\n",
       "<caption>OLS Regression Results</caption>\n",
       "<tr>\n",
       "  <th>Dep. Variable:</th>          <td>stars</td>      <th>  R-squared (uncentered):</th>      <td>   0.948</td> \n",
       "</tr>\n",
       "<tr>\n",
       "  <th>Model:</th>                   <td>OLS</td>       <th>  Adj. R-squared (uncentered):</th> <td>   0.948</td> \n",
       "</tr>\n",
       "<tr>\n",
       "  <th>Method:</th>             <td>Least Squares</td>  <th>  F-statistic:       </th>          <td>   4391.</td> \n",
       "</tr>\n",
       "<tr>\n",
       "  <th>Date:</th>             <td>Mon, 27 Feb 2023</td> <th>  Prob (F-statistic):</th>           <td>  0.00</td>  \n",
       "</tr>\n",
       "<tr>\n",
       "  <th>Time:</th>                 <td>11:20:50</td>     <th>  Log-Likelihood:    </th>          <td> -7261.8</td> \n",
       "</tr>\n",
       "<tr>\n",
       "  <th>No. Observations:</th>      <td>  6272</td>      <th>  AIC:               </th>          <td>1.458e+04</td>\n",
       "</tr>\n",
       "<tr>\n",
       "  <th>Df Residuals:</th>          <td>  6246</td>      <th>  BIC:               </th>          <td>1.475e+04</td>\n",
       "</tr>\n",
       "<tr>\n",
       "  <th>Df Model:</th>              <td>    26</td>      <th>                     </th>              <td> </td>    \n",
       "</tr>\n",
       "<tr>\n",
       "  <th>Covariance Type:</th>      <td>nonrobust</td>    <th>                     </th>              <td> </td>    \n",
       "</tr>\n",
       "</table>\n",
       "<table class=\"simpletable\">\n",
       "<tr>\n",
       "                  <td></td>                    <th>coef</th>     <th>std err</th>      <th>t</th>      <th>P>|t|</th>  <th>[0.025</th>    <th>0.975]</th>  \n",
       "</tr>\n",
       "<tr>\n",
       "  <th>review_count</th>                     <td>-8.363e-05</td> <td> 2.82e-05</td> <td>   -2.966</td> <td> 0.003</td> <td>   -0.000</td> <td>-2.84e-05</td>\n",
       "</tr>\n",
       "<tr>\n",
       "  <th>GoodForKids_FALSE</th>                <td>    0.0170</td> <td>    0.046</td> <td>    0.370</td> <td> 0.712</td> <td>   -0.073</td> <td>    0.107</td>\n",
       "</tr>\n",
       "<tr>\n",
       "  <th>GoodForKids_TRUE</th>                 <td>    0.0120</td> <td>    0.035</td> <td>    0.340</td> <td> 0.734</td> <td>   -0.057</td> <td>    0.081</td>\n",
       "</tr>\n",
       "<tr>\n",
       "  <th>Alcohol_'beer_and_wine'</th>          <td>    0.0300</td> <td>    0.047</td> <td>    0.635</td> <td> 0.526</td> <td>   -0.063</td> <td>    0.123</td>\n",
       "</tr>\n",
       "<tr>\n",
       "  <th>Alcohol_'full_bar'</th>               <td>    0.0386</td> <td>    0.044</td> <td>    0.886</td> <td> 0.375</td> <td>   -0.047</td> <td>    0.124</td>\n",
       "</tr>\n",
       "<tr>\n",
       "  <th>Alcohol_'none'</th>                   <td>   -0.1176</td> <td>    0.039</td> <td>   -2.994</td> <td> 0.003</td> <td>   -0.195</td> <td>   -0.041</td>\n",
       "</tr>\n",
       "<tr>\n",
       "  <th>BusinessAcceptsCreditCards_FALSE</th> <td>    2.4908</td> <td>    0.085</td> <td>   29.423</td> <td> 0.000</td> <td>    2.325</td> <td>    2.657</td>\n",
       "</tr>\n",
       "<tr>\n",
       "  <th>BusinessAcceptsCreditCards_TRUE</th>  <td>    2.3934</td> <td>    0.028</td> <td>   84.393</td> <td> 0.000</td> <td>    2.338</td> <td>    2.449</td>\n",
       "</tr>\n",
       "<tr>\n",
       "  <th>WiFi_'free'</th>                      <td>   -0.0462</td> <td>    0.035</td> <td>   -1.335</td> <td> 0.182</td> <td>   -0.114</td> <td>    0.022</td>\n",
       "</tr>\n",
       "<tr>\n",
       "  <th>WiFi_'no'</th>                        <td>   -0.0105</td> <td>    0.033</td> <td>   -0.317</td> <td> 0.751</td> <td>   -0.076</td> <td>    0.055</td>\n",
       "</tr>\n",
       "<tr>\n",
       "  <th>WiFi_'paid'</th>                      <td>   -0.0459</td> <td>    0.105</td> <td>   -0.436</td> <td> 0.663</td> <td>   -0.252</td> <td>    0.160</td>\n",
       "</tr>\n",
       "<tr>\n",
       "  <th>BikeParking_FALSE</th>                <td>    0.0182</td> <td>    0.032</td> <td>    0.566</td> <td> 0.571</td> <td>   -0.045</td> <td>    0.081</td>\n",
       "</tr>\n",
       "<tr>\n",
       "  <th>BikeParking_TRUE</th>                 <td>    0.0205</td> <td>    0.029</td> <td>    0.714</td> <td> 0.475</td> <td>   -0.036</td> <td>    0.077</td>\n",
       "</tr>\n",
       "<tr>\n",
       "  <th>ByAppointmentOnly_FALSE</th>          <td>   -0.0004</td> <td>    0.034</td> <td>   -0.011</td> <td> 0.991</td> <td>   -0.067</td> <td>    0.067</td>\n",
       "</tr>\n",
       "<tr>\n",
       "  <th>ByAppointmentOnly_TRUE</th>           <td>    0.2519</td> <td>    0.107</td> <td>    2.345</td> <td> 0.019</td> <td>    0.041</td> <td>    0.462</td>\n",
       "</tr>\n",
       "<tr>\n",
       "  <th>WheelechairAccessible_FALSE</th>      <td>    0.1362</td> <td>    0.088</td> <td>    1.554</td> <td> 0.120</td> <td>   -0.036</td> <td>    0.308</td>\n",
       "</tr>\n",
       "<tr>\n",
       "  <th>WheelechairAccessible_TRUE</th>       <td>   -0.0140</td> <td>    0.028</td> <td>   -0.503</td> <td> 0.615</td> <td>   -0.069</td> <td>    0.041</td>\n",
       "</tr>\n",
       "<tr>\n",
       "  <th>OutdoorSeating_FALSE</th>             <td>    0.0446</td> <td>    0.040</td> <td>    1.112</td> <td> 0.266</td> <td>   -0.034</td> <td>    0.123</td>\n",
       "</tr>\n",
       "<tr>\n",
       "  <th>OutdoorSeating_TRUE</th>              <td>    0.0887</td> <td>    0.043</td> <td>    2.062</td> <td> 0.039</td> <td>    0.004</td> <td>    0.173</td>\n",
       "</tr>\n",
       "<tr>\n",
       "  <th>RestaurantsReservations_FALSE</th>    <td>    0.1004</td> <td>    0.041</td> <td>    2.463</td> <td> 0.014</td> <td>    0.020</td> <td>    0.180</td>\n",
       "</tr>\n",
       "<tr>\n",
       "  <th>RestaurantsReservations_TRUE</th>     <td>    0.1299</td> <td>    0.045</td> <td>    2.857</td> <td> 0.004</td> <td>    0.041</td> <td>    0.219</td>\n",
       "</tr>\n",
       "<tr>\n",
       "  <th>DogsAllowed_FALSE</th>                <td>   -0.0235</td> <td>    0.029</td> <td>   -0.802</td> <td> 0.422</td> <td>   -0.081</td> <td>    0.034</td>\n",
       "</tr>\n",
       "<tr>\n",
       "  <th>DogsAllowed_TRUE</th>                 <td>    0.0244</td> <td>    0.054</td> <td>    0.453</td> <td> 0.650</td> <td>   -0.081</td> <td>    0.130</td>\n",
       "</tr>\n",
       "<tr>\n",
       "  <th>Caters_FALSE</th>                     <td>    0.0041</td> <td>    0.030</td> <td>    0.136</td> <td> 0.892</td> <td>   -0.055</td> <td>    0.063</td>\n",
       "</tr>\n",
       "<tr>\n",
       "  <th>Caters_TRUE</th>                      <td>    0.0668</td> <td>    0.033</td> <td>    2.055</td> <td> 0.040</td> <td>    0.003</td> <td>    0.131</td>\n",
       "</tr>\n",
       "<tr>\n",
       "  <th>fourOrAbove</th>                      <td>    1.7334</td> <td>    0.021</td> <td>   83.227</td> <td> 0.000</td> <td>    1.693</td> <td>    1.774</td>\n",
       "</tr>\n",
       "</table>\n",
       "<table class=\"simpletable\">\n",
       "<tr>\n",
       "  <th>Omnibus:</th>       <td>2123.657</td> <th>  Durbin-Watson:     </th> <td>   1.955</td>\n",
       "</tr>\n",
       "<tr>\n",
       "  <th>Prob(Omnibus):</th>  <td> 0.000</td>  <th>  Jarque-Bera (JB):  </th> <td>8092.953</td>\n",
       "</tr>\n",
       "<tr>\n",
       "  <th>Skew:</th>           <td> 1.661</td>  <th>  Prob(JB):          </th> <td>    0.00</td>\n",
       "</tr>\n",
       "<tr>\n",
       "  <th>Kurtosis:</th>       <td> 7.464</td>  <th>  Cond. No.          </th> <td>4.99e+03</td>\n",
       "</tr>\n",
       "</table><br/><br/>Warnings:<br/>[1] Standard Errors assume that the covariance matrix of the errors is correctly specified.<br/>[2] The condition number is large, 4.99e+03. This might indicate that there are<br/>strong multicollinearity or other numerical problems."
      ],
      "text/plain": [
       "<class 'statsmodels.iolib.summary.Summary'>\n",
       "\"\"\"\n",
       "                                 OLS Regression Results                                \n",
       "=======================================================================================\n",
       "Dep. Variable:                  stars   R-squared (uncentered):                   0.948\n",
       "Model:                            OLS   Adj. R-squared (uncentered):              0.948\n",
       "Method:                 Least Squares   F-statistic:                              4391.\n",
       "Date:                Mon, 27 Feb 2023   Prob (F-statistic):                        0.00\n",
       "Time:                        11:20:50   Log-Likelihood:                         -7261.8\n",
       "No. Observations:                6272   AIC:                                  1.458e+04\n",
       "Df Residuals:                    6246   BIC:                                  1.475e+04\n",
       "Df Model:                          26                                                  \n",
       "Covariance Type:            nonrobust                                                  \n",
       "====================================================================================================\n",
       "                                       coef    std err          t      P>|t|      [0.025      0.975]\n",
       "----------------------------------------------------------------------------------------------------\n",
       "review_count                     -8.363e-05   2.82e-05     -2.966      0.003      -0.000   -2.84e-05\n",
       "GoodForKids_FALSE                    0.0170      0.046      0.370      0.712      -0.073       0.107\n",
       "GoodForKids_TRUE                     0.0120      0.035      0.340      0.734      -0.057       0.081\n",
       "Alcohol_'beer_and_wine'              0.0300      0.047      0.635      0.526      -0.063       0.123\n",
       "Alcohol_'full_bar'                   0.0386      0.044      0.886      0.375      -0.047       0.124\n",
       "Alcohol_'none'                      -0.1176      0.039     -2.994      0.003      -0.195      -0.041\n",
       "BusinessAcceptsCreditCards_FALSE     2.4908      0.085     29.423      0.000       2.325       2.657\n",
       "BusinessAcceptsCreditCards_TRUE      2.3934      0.028     84.393      0.000       2.338       2.449\n",
       "WiFi_'free'                         -0.0462      0.035     -1.335      0.182      -0.114       0.022\n",
       "WiFi_'no'                           -0.0105      0.033     -0.317      0.751      -0.076       0.055\n",
       "WiFi_'paid'                         -0.0459      0.105     -0.436      0.663      -0.252       0.160\n",
       "BikeParking_FALSE                    0.0182      0.032      0.566      0.571      -0.045       0.081\n",
       "BikeParking_TRUE                     0.0205      0.029      0.714      0.475      -0.036       0.077\n",
       "ByAppointmentOnly_FALSE             -0.0004      0.034     -0.011      0.991      -0.067       0.067\n",
       "ByAppointmentOnly_TRUE               0.2519      0.107      2.345      0.019       0.041       0.462\n",
       "WheelechairAccessible_FALSE          0.1362      0.088      1.554      0.120      -0.036       0.308\n",
       "WheelechairAccessible_TRUE          -0.0140      0.028     -0.503      0.615      -0.069       0.041\n",
       "OutdoorSeating_FALSE                 0.0446      0.040      1.112      0.266      -0.034       0.123\n",
       "OutdoorSeating_TRUE                  0.0887      0.043      2.062      0.039       0.004       0.173\n",
       "RestaurantsReservations_FALSE        0.1004      0.041      2.463      0.014       0.020       0.180\n",
       "RestaurantsReservations_TRUE         0.1299      0.045      2.857      0.004       0.041       0.219\n",
       "DogsAllowed_FALSE                   -0.0235      0.029     -0.802      0.422      -0.081       0.034\n",
       "DogsAllowed_TRUE                     0.0244      0.054      0.453      0.650      -0.081       0.130\n",
       "Caters_FALSE                         0.0041      0.030      0.136      0.892      -0.055       0.063\n",
       "Caters_TRUE                          0.0668      0.033      2.055      0.040       0.003       0.131\n",
       "fourOrAbove                          1.7334      0.021     83.227      0.000       1.693       1.774\n",
       "==============================================================================\n",
       "Omnibus:                     2123.657   Durbin-Watson:                   1.955\n",
       "Prob(Omnibus):                  0.000   Jarque-Bera (JB):             8092.953\n",
       "Skew:                           1.661   Prob(JB):                         0.00\n",
       "Kurtosis:                       7.464   Cond. No.                     4.99e+03\n",
       "==============================================================================\n",
       "\n",
       "Warnings:\n",
       "[1] Standard Errors assume that the covariance matrix of the errors is correctly specified.\n",
       "[2] The condition number is large, 4.99e+03. This might indicate that there are\n",
       "strong multicollinearity or other numerical problems.\n",
       "\"\"\""
      ]
     },
     "execution_count": 71,
     "metadata": {},
     "output_type": "execute_result"
    }
   ],
   "source": [
    "X_train=train_data.drop(\"stars\", axis=1)\n",
    "Y_train=train_data[\"stars\"]\n",
    "X_test=test_data.drop(\"stars\", axis=1)\n",
    "Y_test=test_data[\"stars\"]\n",
    "sm.add_constant(X_train)\n",
    "sm.add_constant(X_test)\n",
    "linear_model=sm.OLS(Y_train, X_train)\n",
    "results=linear_model.fit()\n",
    "results.summary()"
   ]
  },
  {
   "cell_type": "code",
   "execution_count": 33,
   "metadata": {},
   "outputs": [],
   "source": [
    "#predicting the labels on the training set \n",
    "y_pred_lin_train=results.predict(X_train)"
   ]
  },
  {
   "cell_type": "code",
   "execution_count": 34,
   "metadata": {},
   "outputs": [
    {
     "data": {
      "image/png": "[encoded data removed]",
      "text/plain": [
       "<Figure size 432x288 with 1 Axes>"
      ]
     },
     "metadata": {
      "needs_background": "light"
     },
     "output_type": "display_data"
    }
   ],
   "source": [
    "#plotting the results\n",
    "plt.figure()\n",
    "plt.plot(range(len(X_train))[10:50], Y_train[10:50], label='Ground truth')\n",
    "plt.plot(range(len(X_train))[10:50], y_pred_lin_train[10:50], label='Prediction')\n",
    "plt.legend()\n",
    "plt.show()"
   ]
  },
  {
   "cell_type": "code",
   "execution_count": 35,
   "metadata": {},
   "outputs": [],
   "source": [
    "#predicint the results on the test set\n",
    "y_pred_lin_test=results.predict(X_test)"
   ]
  },
  {
   "cell_type": "code",
   "execution_count": 36,
   "metadata": {},
   "outputs": [
    {
     "data": {
      "image/png": "[encoded data removed]",
      "text/plain": [
       "<Figure size 432x288 with 1 Axes>"
      ]
     },
     "metadata": {
      "needs_background": "light"
     },
     "output_type": "display_data"
    }
   ],
   "source": [
    "#plotting the results\n",
    "plt.figure()\n",
    "plt.plot(range(len(X_test))[0:100], Y_test[0:100], label='Ground truth')\n",
    "plt.plot(range(len(X_test))[0:100], y_pred_lin_test[0:100], label='Prediction')\n",
    "plt.legend()\n",
    "plt.show()"
   ]
  },
  {
   "cell_type": "markdown",
   "metadata": {},
   "source": [
    "# OSR2 and MAE for Linear Regression model "
   ]
  },
  {
   "cell_type": "code",
   "execution_count": 37,
   "metadata": {},
   "outputs": [
    {
     "name": "stdout",
     "output_type": "stream",
     "text": [
      "OSR2 for the linear model is : 3255.274797420844\n",
      "MAE for the linear model is : 2047.2048810046956\n"
     ]
    }
   ],
   "source": [
    "#computing OSR2 and MAE\n",
    "OSR2_lin = np.linalg.norm(y_pred_lin_test - Y_test)**2\n",
    "print('OSR2 for the linear model is : '+str(OSR2_lin))\n",
    "MAE_lin = np.linalg.norm(y_pred_lin_test - Y_test,1)\n",
    "print('MAE for the linear model is : '+str(MAE_lin))"
   ]
  },
  {
   "cell_type": "markdown",
   "metadata": {},
   "source": [
    "# Classfication tree model + Cross Validation \n",
    "\n",
    "Here I am building a Decicion Tree Classifier. I am choosing the parameters as shown below in the cell. Morevover, I am going to choose \n",
    "the complexity parameter through cross-validation. \n",
    "I choose a 5-fold cross validation to compute the score of each model, then I aggregate the results by taking the mean.\n",
    "I will repeat this operation for several values of cc_alpha, and then choose the one that maximizes the score. "
   ]
  },
  {
   "cell_type": "code",
   "execution_count": 48,
   "metadata": {},
   "outputs": [],
   "source": [
    "#create a cross-validation function\n",
    "def cv_training(data,ccp_alpha, criterion, splitter, mdepth, doprint=False):\n",
    "    kf=KFold(n_splits=5, shuffle=True, random_state=2)\n",
    "    X=data.drop(\"stars\", axis=1)\n",
    "    Y=data[\"stars\"]\n",
    "    \n",
    "    model=tree.DecisionTreeClassifier(criterion=criterion, \n",
    "                                        splitter=splitter,\n",
    "                                        max_depth=mdepth,\n",
    "                                        random_state=0, \n",
    "                                        ccp_alpha=ccp_alpha\n",
    "                                  )\n",
    "    scores=[]\n",
    "    models=[]\n",
    "    for train_index, test_index in kf.split(X):\n",
    "        X_train_cv, X_val=X.iloc[train_index], X.iloc[test_index]\n",
    "        Y_train_cv, Y_val=Y.iloc[train_index], Y.iloc[test_index]\n",
    "        clf=model.fit(X_train_cv, Y_train_cv)\n",
    "        y_pred_tr=clf.predict(X_train_cv)\n",
    "        y_pred_val=clf.predict(X_val)\n",
    "        if doprint:\n",
    "            print(\"---------------------------------\")\n",
    "            print(\"Current value of ccp-alpha: \", ccp_alpha)\n",
    "            print('Classes: ', clf.classes_)\n",
    "            print('Tree Depth: ', clf.tree_.max_depth)\n",
    "            print('No. of leaves: ', clf.tree_.n_leaves)\n",
    "            print('No. of features: ', clf.n_features_in_)\n",
    "            print(\"---------------------------------\")\n",
    "            print(\"Results of the model on the training data data\")\n",
    "            print(classification_report(y_true=Y_train_cv, y_pred=y_pred_tr))\n",
    "            print(\"---------------------------------\")\n",
    "            print(\"Results of the model on the validation data data\")\n",
    "            print(classification_report(y_true=Y_val, y_pred=y_pred_val))\n",
    "        scores.append(clf.score(X_val, Y_val))\n",
    "        models.append(clf)\n",
    "        best_score = max(scores)\n",
    "        index_best = scores.index(best_score)\n",
    "        best_model = models[index_best]\n",
    "    return(np.mean(scores), scores, best_model)\n",
    "    "
   ]
  },
  {
   "cell_type": "code",
   "execution_count": 49,
   "metadata": {},
   "outputs": [
    {
     "data": {
      "text/plain": [
       "0.47959218945589255"
      ]
     },
     "execution_count": 49,
     "metadata": {},
     "output_type": "execute_result"
    }
   ],
   "source": [
    "cv_training(train_data, ccp_alpha=0.001, criterion=\"gini\", splitter=\"best\", mdepth=15, doprint=False)[0]"
   ]
  },
  {
   "cell_type": "code",
   "execution_count": 50,
   "metadata": {},
   "outputs": [
    {
     "data": {
      "image/png": "[encoded data removed]",
      "text/plain": [
       "<Figure size 432x288 with 1 Axes>"
      ]
     },
     "metadata": {
      "needs_background": "light"
     },
     "output_type": "display_data"
    },
    {
     "name": "stdout",
     "output_type": "stream",
     "text": [
      "0.01\n"
     ]
    }
   ],
   "source": [
    "#10-fold\n",
    "alphas=[]\n",
    "accs=[]\n",
    "for alpha in np.linspace(0, 0.01, num=100):\n",
    "    alphas.append(alpha)\n",
    "    accs.append(cv_training(train_data, ccp_alpha=alpha, criterion=\"gini\", splitter=\"best\", mdepth=15, doprint=False)[0])\n",
    "\n",
    "plt.figure()\n",
    "plt.plot(alphas, accs)\n",
    "plt.xlabel('Complexity')\n",
    "plt.ylabel('Accuracy')\n",
    "plt.show()\n",
    "\n",
    "print(max(alphas))"
   ]
  },
  {
   "cell_type": "code",
   "execution_count": 51,
   "metadata": {},
   "outputs": [],
   "source": [
    "tree_model = cv_training(train_data, ccp_alpha=0.01, criterion=\"gini\", splitter=\"best\", mdepth=20, doprint=False)[-1]"
   ]
  },
  {
   "cell_type": "code",
   "execution_count": 52,
   "metadata": {},
   "outputs": [
    {
     "name": "stderr",
     "output_type": "stream",
     "text": [
      "/Users/ghitaalami/opt/anaconda3/lib/python3.7/site-packages/sklearn/base.py:488: FutureWarning: The feature names should match those that were passed during fit. Starting version 1.2, an error will be raised.\n",
      "Feature names unseen at fit time:\n",
      "- const\n",
      "Feature names seen at fit time, yet now missing:\n",
      "- fourOrAbove\n",
      "\n",
      "  warnings.warn(message, FutureWarning)\n"
     ]
    }
   ],
   "source": [
    "y_pred_tree_test = tree_model.predict(X_test)"
   ]
  },
  {
   "cell_type": "markdown",
   "metadata": {},
   "source": [
    "# OSR2 and MAE for Tree model "
   ]
  },
  {
   "cell_type": "code",
   "execution_count": 53,
   "metadata": {},
   "outputs": [
    {
     "name": "stdout",
     "output_type": "stream",
     "text": [
      "OSR2 for the tree model is : 2204.0\n",
      "MAE for the tree model is : 1850.0\n"
     ]
    }
   ],
   "source": [
    "OSR2_tree = np.linalg.norm(y_pred_tree_test - Y_test)**2\n",
    "print('OSR2 for the tree model is : '+str(OSR2_tree))\n",
    "MAE_tree = np.linalg.norm(y_pred_tree_test - Y_test,1)\n",
    "print('MAE for the tree model is : '+str(MAE_tree))"
   ]
  },
  {
   "cell_type": "markdown",
   "metadata": {},
   "source": [
    "# Transforming the problem into a binary classification task\n",
    "\n",
    "Regression may not be the most appropriate modeling technique for this data. In\n",
    "particular, it is plausible that restaurants may be mostly concerned with ensuring that their\n",
    "star rating is high enough and not particularly concerned with precisely predicting the value\n",
    "of this rating. Therefore, let us instead consider a classification problem where the goal is to\n",
    "predict if the star rating is greater than or equal to 4 or not."
   ]
  },
  {
   "cell_type": "code",
   "execution_count": 57,
   "metadata": {},
   "outputs": [
    {
     "name": "stderr",
     "output_type": "stream",
     "text": [
      "/Users/ghitaalami/opt/anaconda3/lib/python3.7/site-packages/statsmodels/tsa/tsatools.py:130: FutureWarning: In a future version of pandas all arguments of concat except for the argument 'objs' will be keyword-only\n",
      "  x = pd.concat(x[::order], 1)\n",
      "/Users/ghitaalami/opt/anaconda3/lib/python3.7/site-packages/statsmodels/tsa/tsatools.py:130: FutureWarning: In a future version of pandas all arguments of concat except for the argument 'objs' will be keyword-only\n",
      "  x = pd.concat(x[::order], 1)\n"
     ]
    }
   ],
   "source": [
    "#modifying the data to make it fit with the previous description \n",
    "train_data[\"fourOrAbove\"] = train_data[\"stars\"].apply(lambda x : 1 if x>=4 else 0)\n",
    "test_data[\"fourOrAbove\"] = test_data[\"stars\"].apply(lambda x : 1 if x>=4 else 0)\n",
    "y_train , X_train = train_data['fourOrAbove'] , train_data.drop(columns = ['stars','fourOrAbove'])\n",
    "y_test , X_test = test_data['fourOrAbove'] , test_data.drop(columns = ['stars','fourOrAbove'])\n",
    "X_train , X_test = sm.add_constant(X_train).astype(int) , sm.add_constant(X_test).astype(int)"
   ]
  },
  {
   "cell_type": "code",
   "execution_count": 58,
   "metadata": {},
   "outputs": [],
   "source": [
    "y_pred_lin , y_pred_reg_tree = [1 if x>=4 else 0  for x in y_pred_lin_test ] , [1 if x>=4 else 0  for x in y_pred_tree_test ]"
   ]
  },
  {
   "cell_type": "code",
   "execution_count": 83,
   "metadata": {},
   "outputs": [
    {
     "name": "stderr",
     "output_type": "stream",
     "text": [
      "/Users/ghitaalami/opt/anaconda3/lib/python3.7/site-packages/seaborn/utils.py:538: DeprecationWarning: `np.float` is a deprecated alias for the builtin `float`. To silence this warning, use `float` by itself. Doing this will not modify any behavior and is safe. If you specifically wanted the numpy scalar type, use `np.float64` here.\n",
      "Deprecated in NumPy 1.20; for more details and guidance: https://numpy.org/devdocs/release/1.20.0-notes.html#deprecations\n",
      "  np.asarray(values).astype(np.float)\n"
     ]
    },
    {
     "data": {
      "image/png": "[encoded data removed]",
      "text/plain": [
       "<Figure size 432x288 with 1 Axes>"
      ]
     },
     "metadata": {
      "needs_background": "light"
     },
     "output_type": "display_data"
    }
   ],
   "source": [
    "#plotting the distribution of the train labels \n",
    "plt.figure()\n",
    "sns.countplot(y_train)\n",
    "plt.show()"
   ]
  },
  {
   "cell_type": "code",
   "execution_count": 84,
   "metadata": {},
   "outputs": [
    {
     "name": "stderr",
     "output_type": "stream",
     "text": [
      "/Users/ghitaalami/opt/anaconda3/lib/python3.7/site-packages/seaborn/utils.py:538: DeprecationWarning: `np.float` is a deprecated alias for the builtin `float`. To silence this warning, use `float` by itself. Doing this will not modify any behavior and is safe. If you specifically wanted the numpy scalar type, use `np.float64` here.\n",
      "Deprecated in NumPy 1.20; for more details and guidance: https://numpy.org/devdocs/release/1.20.0-notes.html#deprecations\n",
      "  np.asarray(values).astype(np.float)\n"
     ]
    },
    {
     "data": {
      "image/png": "[encoded data removed]",
      "text/plain": [
       "<Figure size 432x288 with 1 Axes>"
      ]
     },
     "metadata": {
      "needs_background": "light"
     },
     "output_type": "display_data"
    }
   ],
   "source": [
    "#plotting the distribution of the train labels \n",
    "plt.figure()\n",
    "sns.countplot(y_test)\n",
    "plt.show()"
   ]
  },
  {
   "cell_type": "markdown",
   "metadata": {},
   "source": [
    "# Choosing the target metric \n",
    "\n",
    "Since what matters to us is the classification itself, not its precision of recall, and since, given the above graph, the \n",
    "dataset is not really imbalanced, working with the accuracy metric is not a bad idea. "
   ]
  },
  {
   "cell_type": "markdown",
   "metadata": {},
   "source": [
    "# Logistic Regression model "
   ]
  },
  {
   "cell_type": "code",
   "execution_count": 59,
   "metadata": {},
   "outputs": [
    {
     "name": "stdout",
     "output_type": "stream",
     "text": [
      "Optimization terminated successfully.\n",
      "         Current function value: 0.604944\n",
      "         Iterations 6\n",
      "                           Logit Regression Results                           \n",
      "==============================================================================\n",
      "Dep. Variable:            fourOrAbove   No. Observations:                 6272\n",
      "Model:                          Logit   Df Residuals:                     6246\n",
      "Method:                           MLE   Df Model:                           25\n",
      "Date:                Mon, 27 Feb 2023   Pseudo R-squ.:                  0.1193\n",
      "Time:                        11:09:04   Log-Likelihood:                -3794.2\n",
      "converged:                       True   LL-Null:                       -4308.3\n",
      "Covariance Type:            nonrobust   LLR p-value:                6.235e-201\n",
      "====================================================================================================\n",
      "                                       coef    std err          z      P>|z|      [0.025      0.975]\n",
      "----------------------------------------------------------------------------------------------------\n",
      "const                               -0.4067      0.105     -3.881      0.000      -0.612      -0.201\n",
      "review_count                         0.0008      0.000      6.876      0.000       0.001       0.001\n",
      "GoodForKids_FALSE                    0.0733      0.129      0.566      0.571      -0.180       0.327\n",
      "GoodForKids_TRUE                    -0.3501      0.100     -3.500      0.000      -0.546      -0.154\n",
      "Alcohol_'beer_and_wine'              0.1646      0.136      1.214      0.225      -0.101       0.430\n",
      "Alcohol_'full_bar'                  -0.0886      0.125     -0.708      0.479      -0.334       0.157\n",
      "Alcohol_'none'                       0.3170      0.113      2.812      0.005       0.096       0.538\n",
      "BusinessAcceptsCreditCards_FALSE     1.3447      0.265      5.071      0.000       0.825       1.864\n",
      "BusinessAcceptsCreditCards_TRUE      0.0483      0.125      0.387      0.699      -0.197       0.293\n",
      "WiFi_'free'                          0.2203      0.098      2.256      0.024       0.029       0.412\n",
      "WiFi_'no'                            0.1339      0.094      1.421      0.155      -0.051       0.319\n",
      "WiFi_'paid'                         -0.6393      0.347     -1.843      0.065      -1.319       0.041\n",
      "BikeParking_FALSE                   -0.4535      0.092     -4.910      0.000      -0.635      -0.272\n",
      "BikeParking_TRUE                    -0.2525      0.081     -3.125      0.002      -0.411      -0.094\n",
      "ByAppointmentOnly_FALSE              0.4477      0.100      4.485      0.000       0.252       0.643\n",
      "ByAppointmentOnly_TRUE               0.6436      0.339      1.900      0.057      -0.020       1.307\n",
      "WheelechairAccessible_FALSE          1.8272      0.306      5.961      0.000       1.226       2.428\n",
      "WheelechairAccessible_TRUE           0.9426      0.076     12.427      0.000       0.794       1.091\n",
      "OutdoorSeating_FALSE                -0.2048      0.112     -1.824      0.068      -0.425       0.015\n",
      "OutdoorSeating_TRUE                 -0.0410      0.120     -0.342      0.733      -0.276       0.194\n",
      "RestaurantsReservations_FALSE       -0.3154      0.115     -2.742      0.006      -0.541      -0.090\n",
      "RestaurantsReservations_TRUE         0.0951      0.128      0.741      0.458      -0.156       0.346\n",
      "DogsAllowed_FALSE                    0.6506      0.082      7.928      0.000       0.490       0.811\n",
      "DogsAllowed_TRUE                     0.4883      0.156      3.134      0.002       0.183       0.794\n",
      "Caters_FALSE                        -0.3222      0.086     -3.745      0.000      -0.491      -0.154\n",
      "Caters_TRUE                          0.1483      0.091      1.624      0.104      -0.031       0.327\n",
      "====================================================================================================\n"
     ]
    }
   ],
   "source": [
    "logit_model=sm.Logit(y_train,X_train)\n",
    "result=logit_model.fit()\n",
    "print(result.summary())"
   ]
  },
  {
   "cell_type": "code",
   "execution_count": 60,
   "metadata": {},
   "outputs": [],
   "source": [
    "y_pred_logreg = result.predict(X_test)"
   ]
  },
  {
   "cell_type": "markdown",
   "metadata": {},
   "source": [
    "# Binary classification tree"
   ]
  },
  {
   "cell_type": "code",
   "execution_count": 63,
   "metadata": {},
   "outputs": [],
   "source": [
    "alpha_c = []\n",
    "for cp in np.linspace(0,0.05,100):\n",
    "    tree_class = tree.DecisionTreeClassifier(criterion='gini', splitter='best', max_depth=None,class_weight=None,min_samples_leaf=300, random_state=0, ccp_alpha= cp) \n",
    "    clf = tree_class.fit(X_train, y_train)  \n",
    "    alpha_c.append([cp,cross_val_score(tree_class, X_train, y_train, cv=10,scoring='accuracy').mean()])       \n",
    "alpha_c = np.array(alpha_c) "
   ]
  },
  {
   "cell_type": "code",
   "execution_count": 64,
   "metadata": {},
   "outputs": [
    {
     "data": {
      "image/png": "[encoded data removed]",
      "text/plain": [
       "<Figure size 576x648 with 1 Axes>"
      ]
     },
     "metadata": {
      "needs_background": "light"
     },
     "output_type": "display_data"
    }
   ],
   "source": [
    "plt.figure(figsize=(8,9))\n",
    "plt.plot(alpha_c[:,0],alpha_c[:,1])\n",
    "plt.xlabel('Complexity')\n",
    "plt.ylabel('Accuracy')\n",
    "plt.show()"
   ]
  },
  {
   "cell_type": "code",
   "execution_count": 65,
   "metadata": {},
   "outputs": [
    {
     "name": "stdout",
     "output_type": "stream",
     "text": [
      "*************** Tree Summary ***************\n",
      "Classes:  [0 1]\n",
      "Tree Depth:  2\n",
      "No. of leaves:  3\n",
      "No. of features:  26\n",
      "--------------------------------------------------------\n",
      "\n"
     ]
    }
   ],
   "source": [
    "tree_class = tree.DecisionTreeClassifier(criterion='gini', splitter='best', max_depth=None,class_weight=None,min_samples_leaf=1000, random_state=0,ccp_alpha=0.008)                                \n",
    "clf = tree_class.fit(X_train, y_train)\n",
    "y_pred_cl_tree = tree_class.predict(X_test)\n",
    "y_predtrain_cl_tree = tree_class.predict(X_train)\n",
    "\n",
    "print('*************** Tree Summary ***************')\n",
    "print('Classes: ', clf.classes_)\n",
    "print('Tree Depth: ', clf.tree_.max_depth)\n",
    "print('No. of leaves: ', clf.tree_.n_leaves)\n",
    "print('No. of features: ', clf.n_features_in_)\n",
    "print('--------------------------------------------------------')\n",
    "print(\"\")"
   ]
  },
  {
   "cell_type": "code",
   "execution_count": 66,
   "metadata": {},
   "outputs": [
    {
     "name": "stdout",
     "output_type": "stream",
     "text": [
      "*************** Evaluation on Test Data ***************\n",
      "Accuracy Score:  0.6294642857142857\n",
      "              precision    recall  f1-score   support\n",
      "\n",
      "           0       0.66      0.70      0.68      1520\n",
      "           1       0.58      0.54      0.56      1168\n",
      "\n",
      "    accuracy                           0.63      2688\n",
      "   macro avg       0.62      0.62      0.62      2688\n",
      "weighted avg       0.63      0.63      0.63      2688\n",
      "\n",
      "--------------------------------------------------------\n",
      "\n",
      "*************** Evaluation on Training Data ***************\n",
      "Accuracy Score:  0.6505102040816326\n",
      "              precision    recall  f1-score   support\n",
      "\n",
      "           0       0.68      0.71      0.69      3486\n",
      "           1       0.61      0.57      0.59      2786\n",
      "\n",
      "    accuracy                           0.65      6272\n",
      "   macro avg       0.65      0.64      0.64      6272\n",
      "weighted avg       0.65      0.65      0.65      6272\n",
      "\n",
      "--------------------------------------------------------\n"
     ]
    }
   ],
   "source": [
    "print('*************** Evaluation on Test Data ***************')\n",
    "score_te = tree_class.score(X_test, y_test)\n",
    "print('Accuracy Score: ', score_te)\n",
    "# Look at classification report to evaluate the model\n",
    "print(classification_report(y_test, y_pred_cl_tree))\n",
    "print('--------------------------------------------------------')\n",
    "print(\"\")\n",
    "\n",
    "print('*************** Evaluation on Training Data ***************')\n",
    "score_tr = tree_class.score(X_train, y_train)\n",
    "print('Accuracy Score: ', score_tr)\n",
    "# Look at classification report to evaluate the model\n",
    "print(classification_report(y_train, y_predtrain_cl_tree))\n",
    "print('--------------------------------------------------------')"
   ]
  },
  {
   "cell_type": "code",
   "execution_count": 67,
   "metadata": {},
   "outputs": [
    {
     "data": {
      "image/svg+xml": "<?xml version=\"1.0\" encoding=\"UTF-8\" standalone=\"no\"?>\n<!DOCTYPE svg PUBLIC \"-//W3C//DTD SVG 1.1//EN\"\n \"http://www.w3.org/Graphics/SVG/1.1/DTD/svg11.dtd\">\n<!-- Generated by graphviz version 2.40.1 (20161225.0304)\n -->\n<!-- Title: Tree Pages: 1 -->\n<svg width=\"390pt\" height=\"314pt\"\n viewBox=\"0.00 0.00 390.00 314.00\" xmlns=\"http://www.w3.org/2000/svg\" xmlns:xlink=\"http://www.w3.org/1999/xlink\">\n<g id=\"graph0\" class=\"graph\" transform=\"scale(1 1) rotate(0) translate(4 310)\">\n<title>Tree</title>\n<polygon fill=\"#ffffff\" stroke=\"transparent\" points=\"-4,4 -4,-310 386,-310 386,4 -4,4\"/>\n<!-- 0 -->\n<g id=\"node1\" class=\"node\">\n<title>0</title>\n<path fill=\"#fae6d7\" stroke=\"#000000\" d=\"M344.5,-306C344.5,-306 117.5,-306 117.5,-306 111.5,-306 105.5,-300 105.5,-294 105.5,-294 105.5,-235 105.5,-235 105.5,-229 111.5,-223 117.5,-223 117.5,-223 344.5,-223 344.5,-223 350.5,-223 356.5,-229 356.5,-235 356.5,-235 356.5,-294 356.5,-294 356.5,-300 350.5,-306 344.5,-306\"/>\n<text text-anchor=\"middle\" x=\"231\" y=\"-290.8\" font-family=\"Helvetica,sans-Serif\" font-size=\"14.00\" fill=\"#000000\">WheelechairAccessible_TRUE &lt;= 0.5</text>\n<text text-anchor=\"middle\" x=\"231\" y=\"-275.8\" font-family=\"Helvetica,sans-Serif\" font-size=\"14.00\" fill=\"#000000\">gini = 0.494</text>\n<text text-anchor=\"middle\" x=\"231\" y=\"-260.8\" font-family=\"Helvetica,sans-Serif\" font-size=\"14.00\" fill=\"#000000\">samples = 6272</text>\n<text text-anchor=\"middle\" x=\"231\" y=\"-245.8\" font-family=\"Helvetica,sans-Serif\" font-size=\"14.00\" fill=\"#000000\">value = [3486, 2786]</text>\n<text text-anchor=\"middle\" x=\"231\" y=\"-230.8\" font-family=\"Helvetica,sans-Serif\" font-size=\"14.00\" fill=\"#000000\">class = 0</text>\n</g>\n<!-- 1 -->\n<g id=\"node2\" class=\"node\">\n<title>1</title>\n<path fill=\"#f4caab\" stroke=\"#000000\" d=\"M216,-187C216,-187 82,-187 82,-187 76,-187 70,-181 70,-175 70,-175 70,-116 70,-116 70,-110 76,-104 82,-104 82,-104 216,-104 216,-104 222,-104 228,-110 228,-116 228,-116 228,-175 228,-175 228,-181 222,-187 216,-187\"/>\n<text text-anchor=\"middle\" x=\"149\" y=\"-171.8\" font-family=\"Helvetica,sans-Serif\" font-size=\"14.00\" fill=\"#000000\">review_count &lt;= 130.5</text>\n<text text-anchor=\"middle\" x=\"149\" y=\"-156.8\" font-family=\"Helvetica,sans-Serif\" font-size=\"14.00\" fill=\"#000000\">gini = 0.464</text>\n<text text-anchor=\"middle\" x=\"149\" y=\"-141.8\" font-family=\"Helvetica,sans-Serif\" font-size=\"14.00\" fill=\"#000000\">samples = 4730</text>\n<text text-anchor=\"middle\" x=\"149\" y=\"-126.8\" font-family=\"Helvetica,sans-Serif\" font-size=\"14.00\" fill=\"#000000\">value = [2998, 1732]</text>\n<text text-anchor=\"middle\" x=\"149\" y=\"-111.8\" font-family=\"Helvetica,sans-Serif\" font-size=\"14.00\" fill=\"#000000\">class = 0</text>\n</g>\n<!-- 0&#45;&gt;1 -->\n<g id=\"edge1\" class=\"edge\">\n<title>0&#45;&gt;1</title>\n<path fill=\"none\" stroke=\"#000000\" d=\"M202.3204,-222.8796C196.2385,-214.0534 189.7578,-204.6485 183.4859,-195.5466\"/>\n<polygon fill=\"#000000\" stroke=\"#000000\" points=\"186.3582,-193.5465 177.802,-187.2981 180.5941,-197.5184 186.3582,-193.5465\"/>\n<text text-anchor=\"middle\" x=\"173.2761\" y=\"-208.185\" font-family=\"Helvetica,sans-Serif\" font-size=\"14.00\" fill=\"#000000\">True</text>\n</g>\n<!-- 4 -->\n<g id=\"node5\" class=\"node\">\n<title>4</title>\n<path fill=\"#95caf1\" stroke=\"#000000\" d=\"M370,-179.5C370,-179.5 258,-179.5 258,-179.5 252,-179.5 246,-173.5 246,-167.5 246,-167.5 246,-123.5 246,-123.5 246,-117.5 252,-111.5 258,-111.5 258,-111.5 370,-111.5 370,-111.5 376,-111.5 382,-117.5 382,-123.5 382,-123.5 382,-167.5 382,-167.5 382,-173.5 376,-179.5 370,-179.5\"/>\n<text text-anchor=\"middle\" x=\"314\" y=\"-164.3\" font-family=\"Helvetica,sans-Serif\" font-size=\"14.00\" fill=\"#000000\">gini = 0.433</text>\n<text text-anchor=\"middle\" x=\"314\" y=\"-149.3\" font-family=\"Helvetica,sans-Serif\" font-size=\"14.00\" fill=\"#000000\">samples = 1542</text>\n<text text-anchor=\"middle\" x=\"314\" y=\"-134.3\" font-family=\"Helvetica,sans-Serif\" font-size=\"14.00\" fill=\"#000000\">value = [488, 1054]</text>\n<text text-anchor=\"middle\" x=\"314\" y=\"-119.3\" font-family=\"Helvetica,sans-Serif\" font-size=\"14.00\" fill=\"#000000\">class = 1</text>\n</g>\n<!-- 0&#45;&gt;4 -->\n<g id=\"edge4\" class=\"edge\">\n<title>0&#45;&gt;4</title>\n<path fill=\"none\" stroke=\"#000000\" d=\"M260.0294,-222.8796C267.8523,-211.6636 276.327,-199.5131 284.1917,-188.2372\"/>\n<polygon fill=\"#000000\" stroke=\"#000000\" points=\"287.216,-190.0192 290.0661,-179.8149 281.4746,-186.0147 287.216,-190.0192\"/>\n<text text-anchor=\"middle\" x=\"294.4524\" y=\"-200.7271\" font-family=\"Helvetica,sans-Serif\" font-size=\"14.00\" fill=\"#000000\">False</text>\n</g>\n<!-- 2 -->\n<g id=\"node3\" class=\"node\">\n<title>2</title>\n<path fill=\"#f1bd98\" stroke=\"#000000\" d=\"M132,-68C132,-68 12,-68 12,-68 6,-68 0,-62 0,-56 0,-56 0,-12 0,-12 0,-6 6,0 12,0 12,0 132,0 132,0 138,0 144,-6 144,-12 144,-12 144,-56 144,-56 144,-62 138,-68 132,-68\"/>\n<text text-anchor=\"middle\" x=\"72\" y=\"-52.8\" font-family=\"Helvetica,sans-Serif\" font-size=\"14.00\" fill=\"#000000\">gini = 0.438</text>\n<text text-anchor=\"middle\" x=\"72\" y=\"-37.8\" font-family=\"Helvetica,sans-Serif\" font-size=\"14.00\" fill=\"#000000\">samples = 3678</text>\n<text text-anchor=\"middle\" x=\"72\" y=\"-22.8\" font-family=\"Helvetica,sans-Serif\" font-size=\"14.00\" fill=\"#000000\">value = [2486, 1192]</text>\n<text text-anchor=\"middle\" x=\"72\" y=\"-7.8\" font-family=\"Helvetica,sans-Serif\" font-size=\"14.00\" fill=\"#000000\">class = 0</text>\n</g>\n<!-- 1&#45;&gt;2 -->\n<g id=\"edge2\" class=\"edge\">\n<title>1&#45;&gt;2</title>\n<path fill=\"none\" stroke=\"#000000\" d=\"M120.328,-103.9815C114.1715,-95.0666 107.6557,-85.6313 101.4695,-76.6734\"/>\n<polygon fill=\"#000000\" stroke=\"#000000\" points=\"104.2245,-74.5034 95.6619,-68.2637 98.4645,-78.4811 104.2245,-74.5034\"/>\n</g>\n<!-- 3 -->\n<g id=\"node4\" class=\"node\">\n<title>3</title>\n<path fill=\"#f5fafe\" stroke=\"#000000\" d=\"M278,-68C278,-68 174,-68 174,-68 168,-68 162,-62 162,-56 162,-56 162,-12 162,-12 162,-6 168,0 174,0 174,0 278,0 278,0 284,0 290,-6 290,-12 290,-12 290,-56 290,-56 290,-62 284,-68 278,-68\"/>\n<text text-anchor=\"middle\" x=\"226\" y=\"-52.8\" font-family=\"Helvetica,sans-Serif\" font-size=\"14.00\" fill=\"#000000\">gini = 0.5</text>\n<text text-anchor=\"middle\" x=\"226\" y=\"-37.8\" font-family=\"Helvetica,sans-Serif\" font-size=\"14.00\" fill=\"#000000\">samples = 1052</text>\n<text text-anchor=\"middle\" x=\"226\" y=\"-22.8\" font-family=\"Helvetica,sans-Serif\" font-size=\"14.00\" fill=\"#000000\">value = [512, 540]</text>\n<text text-anchor=\"middle\" x=\"226\" y=\"-7.8\" font-family=\"Helvetica,sans-Serif\" font-size=\"14.00\" fill=\"#000000\">class = 1</text>\n</g>\n<!-- 1&#45;&gt;3 -->\n<g id=\"edge3\" class=\"edge\">\n<title>1&#45;&gt;3</title>\n<path fill=\"none\" stroke=\"#000000\" d=\"M177.672,-103.9815C183.8285,-95.0666 190.3443,-85.6313 196.5305,-76.6734\"/>\n<polygon fill=\"#000000\" stroke=\"#000000\" points=\"199.5355,-78.4811 202.3381,-68.2637 193.7755,-74.5034 199.5355,-78.4811\"/>\n</g>\n</g>\n</svg>\n",
      "text/plain": [
       "<graphviz.sources.Source at 0x7ff420521090>"
      ]
     },
     "execution_count": 67,
     "metadata": {},
     "output_type": "execute_result"
    }
   ],
   "source": [
    "dot_data = tree.export_graphviz(clf, out_file=None, feature_names=X_train.columns, class_names=[str(list(clf.classes_)[0]), str(list(clf.classes_)[1])],filled=True, rounded=True)\n",
    "graph = graphviz.Source(dot_data)\n",
    "graph"
   ]
  },
  {
   "cell_type": "markdown",
   "metadata": {},
   "source": [
    "# Conclusion\n",
    "\n",
    "If I was a data scientist working for Yelp and I had been tasked\n",
    "with producing a “how to guide” for Las Vegas restaurants, which is supposed to include\n",
    "tips for actions restaurants may take to achieve a high star rating, those are the 3 tips\n",
    "I would give to the restaurant owners. "
   ]
  },
  {
   "cell_type": "markdown",
   "metadata": {},
   "source": [
    "### First advice: Dealing with Wifi\n",
    "\n",
    "Looking at the coefficients of the logistic regression made to classify the restaurants that have 4 stars and above or lower, here is what I noticed.\n",
    "It seems like for certain features the signs of the coefficients of the True and False of the same feature have the same sign, and other have opposite signs. \n",
    "My first suggestion is to work with the features for which the one hot encoded booleans have opposite signs. Because, it is more interpretable. A positive coefficient means that we have to make sure the restaurants offers that feature and a negative sign suggests it should not be present in the restaurant. For the features for which the one hot encoded booleans have the same sign, it is much more difficult to interpret. It seems like in a certain measure, the True is important for some customers, and to another exxtent, it is important for other customers. So, it really depends on the restaurant and the type of customers they want to attract.\n",
    "\n",
    "The Wifi feature is pretty straighforward to interpret given the coefficients: \n",
    "- WiFi_'free' : 0.2203\n",
    "- WiFi_'no' : 0.1339 \n",
    "- WiFi_'paid': -0.6393 \n",
    "\n",
    "$\\textbf{It seems like not offering Wifi to customers is a better idea than offering one that is paid. My advice for the owners: either you cna afford to provide free Wifi, or do not provide it at all.}$"
   ]
  },
  {
   "cell_type": "code",
   "execution_count": null,
   "metadata": {},
   "outputs": [
    {
     "name": "stderr",
     "output_type": "stream",
     "text": [
      "/Users/ghitaalami/opt/anaconda3/lib/python3.7/site-packages/seaborn/utils.py:538: DeprecationWarning: `np.float` is a deprecated alias for the builtin `float`. To silence this warning, use `float` by itself. Doing this will not modify any behavior and is safe. If you specifically wanted the numpy scalar type, use `np.float64` here.\n",
      "Deprecated in NumPy 1.20; for more details and guidance: https://numpy.org/devdocs/release/1.20.0-notes.html#deprecations\n",
      "  np.asarray(values).astype(np.float)\n",
      "/Users/ghitaalami/opt/anaconda3/lib/python3.7/site-packages/seaborn/utils.py:538: DeprecationWarning: `np.float` is a deprecated alias for the builtin `float`. To silence this warning, use `float` by itself. Doing this will not modify any behavior and is safe. If you specifically wanted the numpy scalar type, use `np.float64` here.\n",
      "Deprecated in NumPy 1.20; for more details and guidance: https://numpy.org/devdocs/release/1.20.0-notes.html#deprecations\n",
      "  np.asarray(values).astype(np.float)\n",
      "/Users/ghitaalami/opt/anaconda3/lib/python3.7/site-packages/seaborn/utils.py:538: DeprecationWarning: `np.float` is a deprecated alias for the builtin `float`. To silence this warning, use `float` by itself. Doing this will not modify any behavior and is safe. If you specifically wanted the numpy scalar type, use `np.float64` here.\n",
      "Deprecated in NumPy 1.20; for more details and guidance: https://numpy.org/devdocs/release/1.20.0-notes.html#deprecations\n",
      "  np.asarray(values).astype(np.float)\n"
     ]
    },
    {
     "data": {
      "image/png": "[encoded data removed]",
      "text/plain": [
       "<Figure size 1440x360 with 3 Axes>"
      ]
     },
     "metadata": {
      "needs_background": "light"
     },
     "output_type": "display_data"
    }
   ],
   "source": [
    "wifi_paid = train_data[train_data[\"WiFi_\\'paid\\'\"]==1]\n",
    "wifi_no = train_data[train_data[\"WiFi_\\'no\\'\"]==1]\n",
    "wifi_free =train_data[train_data[\"WiFi_\\'free\\'\"]==1]\n",
    "\n",
    "plt.figure(figsize=(20,5))\n",
    "plt.subplot(1, 3, 1)\n",
    "sns.countplot(wifi_paid[\"stars\"])\n",
    "plt.title('Distribution of stars for restaurants that have a paid wifi')\n",
    "plt.subplot(1,3,2)\n",
    "sns.countplot(wifi_no[\"stars\"])\n",
    "plt.title(\"Distribution of stars for restaurants that don't have wifi\")\n",
    "plt.subplot(1,3,3)\n",
    "sns.countplot(wifi_free[\"stars\"])\n",
    "plt.title(\"Distribution of stars for restaurants that have free wifi\")\n",
    "plt.show()"
   ]
  },
  {
   "cell_type": "markdown",
   "metadata": {},
   "source": [
    "### Second advice: Dealing with Caters\n",
    "\n",
    "Along the same vein, looking at the presence or absence of Caters, here is what we find: \n",
    "- Caters_FALSE : -0.3222\n",
    "- Caters_TRUE : 0.1483 \n",
    "\n",
    "$\\textbf{Second advice for the owners: make sure you do have Caters at your restaurant.}$"
   ]
  },
  {
   "cell_type": "code",
   "execution_count": 105,
   "metadata": {},
   "outputs": [
    {
     "name": "stderr",
     "output_type": "stream",
     "text": [
      "/Users/ghitaalami/opt/anaconda3/lib/python3.7/site-packages/seaborn/utils.py:538: DeprecationWarning: `np.float` is a deprecated alias for the builtin `float`. To silence this warning, use `float` by itself. Doing this will not modify any behavior and is safe. If you specifically wanted the numpy scalar type, use `np.float64` here.\n",
      "Deprecated in NumPy 1.20; for more details and guidance: https://numpy.org/devdocs/release/1.20.0-notes.html#deprecations\n",
      "  np.asarray(values).astype(np.float)\n",
      "/Users/ghitaalami/opt/anaconda3/lib/python3.7/site-packages/seaborn/utils.py:538: DeprecationWarning: `np.float` is a deprecated alias for the builtin `float`. To silence this warning, use `float` by itself. Doing this will not modify any behavior and is safe. If you specifically wanted the numpy scalar type, use `np.float64` here.\n",
      "Deprecated in NumPy 1.20; for more details and guidance: https://numpy.org/devdocs/release/1.20.0-notes.html#deprecations\n",
      "  np.asarray(values).astype(np.float)\n"
     ]
    },
    {
     "data": {
      "image/png": "[encoded data removed]",
      "text/plain": [
       "<Figure size 1440x360 with 2 Axes>"
      ]
     },
     "metadata": {
      "needs_background": "light"
     },
     "output_type": "display_data"
    }
   ],
   "source": [
    "cater_yes = train_data[train_data[\"Caters_TRUE\"]==1]\n",
    "cater_no = train_data[train_data[\"Caters_FALSE\"]==1]\n",
    "\n",
    "\n",
    "plt.figure(figsize=(20,5))\n",
    "plt.subplot(1, 2, 1)\n",
    "sns.countplot(cater_yes[\"stars\"])\n",
    "plt.title('Distribution of stars for restaurants that have caters')\n",
    "plt.subplot(1,2,2)\n",
    "sns.countplot(cater_no[\"stars\"])\n",
    "plt.title(\"Distribution of stars for restaurants that don't have caters\")\n",
    "plt.show()"
   ]
  },
  {
   "cell_type": "markdown",
   "metadata": {},
   "source": [
    "### Third advice: Dealing with Reservations \n",
    "\n",
    "Finally, given the following coefficients, not working with Reservations harms consequently the rating of the restaurant: \n",
    "- RestaurantsReservations_FALSE : -0.3154  \n",
    "- RestaurantsReservations_TRUE  :  0.0951\n",
    "On the other hand, having reservations improves a little the model. \n",
    "\n",
    "**Third advice fot the owners: have the *possibility* of booking a table at your restaurant will improve your rating a lot. Only working with reservations will improve it just a little bit.**"
   ]
  },
  {
   "cell_type": "code",
   "execution_count": 107,
   "metadata": {},
   "outputs": [
    {
     "name": "stderr",
     "output_type": "stream",
     "text": [
      "/Users/ghitaalami/opt/anaconda3/lib/python3.7/site-packages/seaborn/utils.py:538: DeprecationWarning: `np.float` is a deprecated alias for the builtin `float`. To silence this warning, use `float` by itself. Doing this will not modify any behavior and is safe. If you specifically wanted the numpy scalar type, use `np.float64` here.\n",
      "Deprecated in NumPy 1.20; for more details and guidance: https://numpy.org/devdocs/release/1.20.0-notes.html#deprecations\n",
      "  np.asarray(values).astype(np.float)\n",
      "/Users/ghitaalami/opt/anaconda3/lib/python3.7/site-packages/seaborn/utils.py:538: DeprecationWarning: `np.float` is a deprecated alias for the builtin `float`. To silence this warning, use `float` by itself. Doing this will not modify any behavior and is safe. If you specifically wanted the numpy scalar type, use `np.float64` here.\n",
      "Deprecated in NumPy 1.20; for more details and guidance: https://numpy.org/devdocs/release/1.20.0-notes.html#deprecations\n",
      "  np.asarray(values).astype(np.float)\n"
     ]
    },
    {
     "data": {
      "image/png": "[encoded data removed]",
      "text/plain": [
       "<Figure size 1440x360 with 2 Axes>"
      ]
     },
     "metadata": {
      "needs_background": "light"
     },
     "output_type": "display_data"
    }
   ],
   "source": [
    "re_yes = train_data[train_data[\"RestaurantsReservations_TRUE\"]==1]\n",
    "re_no = train_data[train_data[\"RestaurantsReservations_FALSE\"]==1]\n",
    "\n",
    "\n",
    "plt.figure(figsize=(20,5))\n",
    "plt.subplot(1, 2, 1)\n",
    "sns.countplot(re_yes[\"stars\"])\n",
    "plt.title('Distribution of stars for restaurants that have reseravtions')\n",
    "plt.subplot(1,2,2)\n",
    "sns.countplot(re_no[\"stars\"])\n",
    "plt.title(\"Distribution of stars for restaurants that don't have reservations\")\n",
    "plt.show()"
   ]
  }
 ],
 "metadata": {
  "kernelspec": {
   "display_name": "Python 3.7.6 ('base')",
   "language": "python",
   "name": "python3"
  },
  "language_info": {
   "codemirror_mode": {
    "name": "ipython",
    "version": 3
   },
   "file_extension": ".py",
   "mimetype": "text/x-python",
   "name": "python",
   "nbconvert_exporter": "python",
   "pygments_lexer": "ipython3",
   "version": "3.7.6"
  },
  "orig_nbformat": 4,
  "vscode": {
   "interpreter": {
    "hash": "a05f4eab8a48e0fb699a9c4d2ff5136ad6fe08181e3a510e3ac6da38970e2134"
   }
  }
 },
 "nbformat": 4,
 "nbformat_minor": 2
}
